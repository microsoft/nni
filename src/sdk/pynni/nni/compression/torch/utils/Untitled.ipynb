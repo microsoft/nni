{
 "cells": [
  {
   "cell_type": "code",
   "execution_count": 1,
   "metadata": {},
   "outputs": [],
   "source": [
    "import torch\n",
    "import torch.nn as nn\n",
    "from counter import count_flops_params\n",
    "from torchvision.models import resnet18, resnet50"
   ]
  },
  {
   "cell_type": "markdown",
   "metadata": {},
   "source": [
    "### Refactor counter\n",
    "\n",
    "1. Hard to debug thop. Make verbose easier read.\n",
    "2. Each layer may be caled multiple times. Add #Calls to represent multiple calls."
   ]
  },
  {
   "cell_type": "code",
   "execution_count": 2,
   "metadata": {},
   "outputs": [
    {
     "name": "stdout",
     "output_type": "stream",
     "text": [
      "in_features 2048 out_features 1000\n",
      "[INFO] Register count_convNd() for <class 'torch.nn.modules.conv.Conv2d'>.\n",
      "[INFO] Register count_bn() for <class 'torch.nn.modules.batchnorm.BatchNorm2d'>.\n",
      "[INFO] Register zero_ops() for <class 'torch.nn.modules.activation.ReLU'>.\n",
      "[INFO] Register zero_ops() for <class 'torch.nn.modules.pooling.MaxPool2d'>.\n",
      "\u001b[91m[WARN] Cannot find rule for <class 'torch.nn.modules.container.Sequential'>. Treat it as zero Macs and zero Params.\u001b[00m\n",
      "\u001b[91m[WARN] Cannot find rule for <class 'torchvision.models.resnet.Bottleneck'>. Treat it as zero Macs and zero Params.\u001b[00m\n",
      "[INFO] Register count_adap_avgpool() for <class 'torch.nn.modules.pooling.AdaptiveAvgPool2d'>.\n",
      "[INFO] Register count_linear() for <class 'torch.nn.modules.linear.Linear'>.\n",
      "\u001b[91m[WARN] Cannot find rule for <class 'torchvision.models.resnet.ResNet'>. Treat it as zero Macs and zero Params.\u001b[00m\n",
      "4111514624.0 25557032.0\n"
     ]
    }
   ],
   "source": [
    "from thop import profile\n",
    "import torch\n",
    "# args = dict(inputs=(x, ),\n",
    "#                 custom_ops=custom_ops_for_efficient,\n",
    "#                 verbose=False)\n",
    "#     flops, params = thop.profile(model, **args)\n",
    "    \n",
    "x = torch.randn(1, 3, 224, 224)\n",
    "flops, params = profile(resnet50(), inputs=(x,))\n",
    "print(flops, params)"
   ]
  },
  {
   "cell_type": "code",
   "execution_count": 6,
   "metadata": {},
   "outputs": [
    {
     "name": "stdout",
     "output_type": "stream",
     "text": [
      "in_features 2048 out_features 1000\n",
      "----------  -----------------------  --------  --------------------  ----------  ----------  \n",
      "     Index                     Name    Module           Weight Size       FLOPs     #Params  \n",
      "         0                    conv1    Conv2d         (64, 3, 7, 7)   118013952        9408  \n",
      "         1           layer1.0.conv1    Conv2d        (64, 64, 1, 1)    12845056        4096  \n",
      "         2           layer1.0.conv2    Conv2d        (64, 64, 3, 3)   115605504       36864  \n",
      "         3           layer1.0.conv3    Conv2d       (256, 64, 1, 1)    51380224       16384  \n",
      "         4    layer1.0.downsample.0    Conv2d       (256, 64, 1, 1)    51380224       16384  \n",
      "         5           layer1.1.conv1    Conv2d       (64, 256, 1, 1)    51380224       16384  \n",
      "         6           layer1.1.conv2    Conv2d        (64, 64, 3, 3)   115605504       36864  \n",
      "         7           layer1.1.conv3    Conv2d       (256, 64, 1, 1)    51380224       16384  \n",
      "         8           layer1.2.conv1    Conv2d       (64, 256, 1, 1)    51380224       16384  \n",
      "         9           layer1.2.conv2    Conv2d        (64, 64, 3, 3)   115605504       36864  \n",
      "        10           layer1.2.conv3    Conv2d       (256, 64, 1, 1)    51380224       16384  \n",
      "        11           layer2.0.conv1    Conv2d      (128, 256, 1, 1)   102760448       32768  \n",
      "        12           layer2.0.conv2    Conv2d      (128, 128, 3, 3)   115605504      147456  \n",
      "        13           layer2.0.conv3    Conv2d      (512, 128, 1, 1)    51380224       65536  \n",
      "        14    layer2.0.downsample.0    Conv2d      (512, 256, 1, 1)   102760448      131072  \n",
      "        15           layer2.1.conv1    Conv2d      (128, 512, 1, 1)    51380224       65536  \n",
      "        16           layer2.1.conv2    Conv2d      (128, 128, 3, 3)   115605504      147456  \n",
      "        17           layer2.1.conv3    Conv2d      (512, 128, 1, 1)    51380224       65536  \n",
      "        18           layer2.2.conv1    Conv2d      (128, 512, 1, 1)    51380224       65536  \n",
      "        19           layer2.2.conv2    Conv2d      (128, 128, 3, 3)   115605504      147456  \n",
      "        20           layer2.2.conv3    Conv2d      (512, 128, 1, 1)    51380224       65536  \n",
      "        21           layer2.3.conv1    Conv2d      (128, 512, 1, 1)    51380224       65536  \n",
      "        22           layer2.3.conv2    Conv2d      (128, 128, 3, 3)   115605504      147456  \n",
      "        23           layer2.3.conv3    Conv2d      (512, 128, 1, 1)    51380224       65536  \n",
      "        24           layer3.0.conv1    Conv2d      (256, 512, 1, 1)   102760448      131072  \n",
      "        25           layer3.0.conv2    Conv2d      (256, 256, 3, 3)   115605504      589824  \n",
      "        26           layer3.0.conv3    Conv2d     (1024, 256, 1, 1)    51380224      262144  \n",
      "        27    layer3.0.downsample.0    Conv2d     (1024, 512, 1, 1)   102760448      524288  \n",
      "        28           layer3.1.conv1    Conv2d     (256, 1024, 1, 1)    51380224      262144  \n",
      "        29           layer3.1.conv2    Conv2d      (256, 256, 3, 3)   115605504      589824  \n",
      "        30           layer3.1.conv3    Conv2d     (1024, 256, 1, 1)    51380224      262144  \n",
      "        31           layer3.2.conv1    Conv2d     (256, 1024, 1, 1)    51380224      262144  \n",
      "        32           layer3.2.conv2    Conv2d      (256, 256, 3, 3)   115605504      589824  \n",
      "        33           layer3.2.conv3    Conv2d     (1024, 256, 1, 1)    51380224      262144  \n",
      "        34           layer3.3.conv1    Conv2d     (256, 1024, 1, 1)    51380224      262144  \n",
      "        35           layer3.3.conv2    Conv2d      (256, 256, 3, 3)   115605504      589824  \n",
      "        36           layer3.3.conv3    Conv2d     (1024, 256, 1, 1)    51380224      262144  \n",
      "        37           layer3.4.conv1    Conv2d     (256, 1024, 1, 1)    51380224      262144  \n",
      "        38           layer3.4.conv2    Conv2d      (256, 256, 3, 3)   115605504      589824  \n",
      "        39           layer3.4.conv3    Conv2d     (1024, 256, 1, 1)    51380224      262144  \n",
      "        40           layer3.5.conv1    Conv2d     (256, 1024, 1, 1)    51380224      262144  \n",
      "        41           layer3.5.conv2    Conv2d      (256, 256, 3, 3)   115605504      589824  \n",
      "        42           layer3.5.conv3    Conv2d     (1024, 256, 1, 1)    51380224      262144  \n",
      "        43           layer4.0.conv1    Conv2d     (512, 1024, 1, 1)   102760448      524288  \n",
      "        44           layer4.0.conv2    Conv2d      (512, 512, 3, 3)   115605504     2359296  \n",
      "        45           layer4.0.conv3    Conv2d     (2048, 512, 1, 1)    51380224     1048576  \n",
      "        46    layer4.0.downsample.0    Conv2d    (2048, 1024, 1, 1)   102760448     2097152  \n",
      "        47           layer4.1.conv1    Conv2d     (512, 2048, 1, 1)    51380224     1048576  \n",
      "        48           layer4.1.conv2    Conv2d      (512, 512, 3, 3)   115605504     2359296  \n",
      "        49           layer4.1.conv3    Conv2d     (2048, 512, 1, 1)    51380224     1048576  \n",
      "        50           layer4.2.conv1    Conv2d     (512, 2048, 1, 1)    51380224     1048576  \n",
      "        51           layer4.2.conv2    Conv2d      (512, 512, 3, 3)   115605504     2359296  \n",
      "        52           layer4.2.conv3    Conv2d     (2048, 512, 1, 1)    51380224     1048576  \n",
      "        53                       fc    Linear          (1000, 2048)     2048000     2049000  \n",
      "----------  -----------------------  --------  --------------------  ----------  ----------  \n",
      "FLOPs total: 4089184256 \n",
      "#Params total: 25503912 \n",
      "\n",
      "4089184256 25503912\n"
     ]
    }
   ],
   "source": [
    "flops, params, results = count_flops_params(resnet50(), (1, 3, 224, 224), verbose=True, show_data_size=False)\n",
    "print(flops, params)"
   ]
  },
  {
   "cell_type": "code",
   "execution_count": 9,
   "metadata": {},
   "outputs": [
    {
     "name": "stdout",
     "output_type": "stream",
     "text": [
      "----------  -------  --------  --------------  ----------  ----------  ----------  \n",
      "     Index     Name    Module     Weight Size       FLOPs     #Params      #Calls  \n",
      "         0     conv    Conv2d    (5, 3, 1, 1)      752640          20           1  \n",
      "         1    conv2    Conv2d    (5, 5, 1, 1)     1254400          30           3  \n",
      "----------  -------  --------  --------------  ----------  ----------  ----------  \n",
      "FLOPs total: 4515840 \n",
      "#Params total: 110 \n",
      "\n",
      "4515840 110\n"
     ]
    }
   ],
   "source": [
    "class Model2(nn.Module):\n",
    "    def __init__(self):\n",
    "        super(Model2, self).__init__()\n",
    "        self.conv = nn.Conv2d(3, 5, 1, 1)\n",
    "        self.conv2 = nn.Conv2d(5, 5, 1, 1)\n",
    "    def forward(self, x):\n",
    "        x = self.conv(x)\n",
    "        for i in range(3):\n",
    "            x = self.conv2(x)\n",
    "        return x\n",
    "\n",
    "flops, params, results = count_flops_params(Model2(), (1, 3, 224, 224), verbose=True, show_data_size=False)\n",
    "print(flops, params)"
   ]
  },
  {
   "cell_type": "code",
   "execution_count": 10,
   "metadata": {},
   "outputs": [
    {
     "name": "stdout",
     "output_type": "stream",
     "text": [
      "[{'name': 'conv', 'module_type': 'Conv2d', 'flops': 752640, 'params': 20, 'num_calls': 1, 'weight_size': (5, 3, 1, 1), 'input_sizes': (1, 3, 224, 224), 'output_sizes': (1, 5, 224, 224)}, {'name': 'conv2', 'module_type': 'Conv2d', 'flops': 1254400, 'params': 30, 'num_calls': 3, 'weight_size': (5, 5, 1, 1), 'input_sizes': (1, 5, 224, 224), 'output_sizes': (1, 5, 224, 224)}]\n"
     ]
    }
   ],
   "source": [
    "print(results)"
   ]
  },
  {
   "cell_type": "code",
   "execution_count": null,
   "metadata": {},
   "outputs": [],
   "source": []
  }
 ],
 "metadata": {
  "kernelspec": {
   "display_name": "Python 3",
   "language": "python",
   "name": "python3"
  },
  "language_info": {
   "codemirror_mode": {
    "name": "ipython",
    "version": 3
   },
   "file_extension": ".py",
   "mimetype": "text/x-python",
   "name": "python",
   "nbconvert_exporter": "python",
   "pygments_lexer": "ipython3",
   "version": "3.7.0"
  }
 },
 "nbformat": 4,
 "nbformat_minor": 4
}
