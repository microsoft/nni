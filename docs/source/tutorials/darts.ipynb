{
  "cells": [
    {
      "cell_type": "code",
      "execution_count": null,
      "metadata": {
        "collapsed": false
      },
      "outputs": [],
      "source": [
        "%matplotlib inline"
      ]
    },
    {
      "cell_type": "markdown",
      "metadata": {},
      "source": [
        "\n# Searching on DARTS search space\n\nIn this tutorial, we demonstrate how to search on the famous model space proposed in [DARTS](https://arxiv.org/abs/1806.09055)_.\n\nThrough this process, you will learn:\n\n* How to use the built-in model spaces from NNI's model space hub.\n* How to use one-shot exploration strategies to explore a model space.\n* How to customize evaluators to achieve the best performance.\n\nIn the end, we get a strong-performing model on CIFAR-10 dataset, which achieves xx.xx% accuracy.\n\n.. attention::\n\n   Running this tutorial requires a GPU.\n   If you don't have one, you can set ``gpus`` in :class:`~nni.retiarii.evaluator.pytorch.Classification` to be 0,\n   but do note that it will be much slower.\n\n## Use the model space\n\nThe model space provided in DARTS originated from [NASNet](https://arxiv.org/abs/1707.07012)_,\nwhere the full model is constructed by repeatedly stacking a single computational unit (called a **cell**).\nThere are two types of cells within a network. The first type is called *normal cell*, and the second type is called *reduction cell*.\nThe key difference between normal and reduction cell is that the reduction cell will downsample the input feature map,\nand decrease its resolution. Normal and reduction cells are stacked alternately, as shown in the following figure.\n\n<img src=\"file://../../img/nasnet_cell_stack.png\">\n\nA cell takes outputs from two previous cells as inputs and contains a collection of *nodes*.\nEach node takes two previous nodes within the same cell (or the two cell inputs),\nand applies an *operator* (e.g., convolution, or max-pooling) to each input,\nand sums the outputs of operators as the output of the node.\nThe output of cell is the concatenation of all the nodes that are never used as inputs of another node.\nWe recommend reading [NDS](https://arxiv.org/pdf/1905.13214.pdf)_ or [ENAS](https://arxiv.org/abs/1802.03268)_ for details.\n\nWe illustrate an example of cells in the following figure.\n\n<img src=\"file://../../img/nasnet_cell.png\">\n\nThe search space proposed in DARTS paper introduced two modifications to the original space in [NASNet](https://arxiv.org/abs/1707.07012)_.\n\nFirstly, the operator candidates have been narrowed down to seven:\n\n- Max pooling 3x3\n- Average pooling 3x3\n- Skip connect (Identity)\n- Separable convolution 3x3\n- Separable convolution 5x5\n- Dilated convolution 3x3\n- Dilated convolution 5x5\n\nSecondly, the output of cell is the concatenate of **all the nodes within the cell**.\n\nAs the search space is based on cell, once the normal and reduction cell has been fixed, we can stack them for indefinite times.\nTo save the search cost, the common practice is to reduce the number of filters (i.e., channels) and number of stacked cells\nduring the search phase, and increase them back when training the final searched architecture.\n\n<div class=\"alert alert-info\"><h4>Note</h4><p>DARTS is one of those papers that innovate both in search space and search strategy.\n   In this tutorial, we will search on **model space** provided by DARTS with **search strategy** proposed by DARTS.\n   We refer to them as *DARTS model space* (``DartsSpace``) and *DARTS strategy* (``DartsStrategy``), respectively.\n   We did NOT imply that the DARTS space and DARTS strategy has to used together.\n   You can always explore the DARTS space with another search strategy, or use your own strategy to search a different model space.</p></div>\n"
      ]
    },
    {
      "cell_type": "markdown",
      "metadata": {},
      "source": [
        "In the following example, we initialize a DARTS model space, with only 16 initial filters and 8 stacked cells.\nThe network is specialized for CIFAR-10 dataset with 32x32 input resolution.\n\nThe DARTS model space here is provided by :doc:`model space hub <./space_hub>`,\nwhere we have supported multiple popular model spaces for plug-and-play.\n\n.. tip::\n\n   The model space here can be replaced with any space provided in the hub,\n   or even customized space built from scratch.\n\n"
      ]
    },
    {
      "cell_type": "code",
      "execution_count": null,
      "metadata": {
        "collapsed": false
      },
      "outputs": [],
      "source": [
        "from nni.retiarii.hub.pytorch import DARTS as DartsSpace\n\nmodel_space = DartsSpace(16, 8, 'cifar')"
      ]
    },
    {
      "cell_type": "markdown",
      "metadata": {},
      "source": [
        "## Search on the model space\n\nTo begin exploring the model space, one firstly need to have an evaluator to provide the criterion of a \"good model\".\nAs we are searching on CIFAR-10 dataset, one can easily use the :class:`~nni.retiarii.evaluator.pytorch.Classification`\nas a starting point.\n\nNote that for a typical setup of NAS, the model search should be on validation set, and the evaluation of the final searched model\nshould be on test set. However, as CIFAR-10 dataset only has a training set of 50k images and a validation set (10k images),\nwe have to split the original training set into a training set and a validation set.\nAs we are going to use the provided by DARTS paper, the recommended train/val split is 1:1.\n\n"
      ]
    },
    {
      "cell_type": "code",
      "execution_count": null,
      "metadata": {
        "collapsed": false
      },
      "outputs": [],
      "source": [
        "import nni\nimport numpy as np\nfrom nni.retiarii.evaluator.pytorch import (\n    Classification,\n    DataLoader  # might also use torch.utils.data.DataLoader if not using multi-trial strategy\n)\nfrom torch.utils.data import SubsetRandomSampler\nfrom torchvision import transforms\nfrom torchvision.datasets import CIFAR10\n\nCIFAR_MEAN = [0.49139968, 0.48215827, 0.44653124]\nCIFAR_STD = [0.24703233, 0.24348505, 0.26158768]\n\ntransform = transforms.Compose([\n    transforms.RandomCrop(32, padding=4),\n    transforms.RandomHorizontalFlip(),\n    transforms.ToTensor(),\n    transforms.Normalize(CIFAR_MEAN, CIFAR_STD),\n])\n\n# If you are to use multi-trial strategies, please wrap CIFAR10 with :func:`nni.trace`.\ntrain_data = nni.trace(CIFAR10)(root='./data', train=True, download=True, transform=transform)\n\nnum_samples = len(train_data)\nindices = np.random.permutation(num_samples)\nsplit = num_samples // 2\n\nsearch_train_loader = DataLoader(\n    train_data, batch_size=64, num_workers=6,\n    sampler=SubsetRandomSampler(indices[:split]),\n)\n\nsearch_valid_loader = DataLoader(\n    train_data, batch_size=64, num_workers=6,\n    sampler=SubsetRandomSampler(indices[split:]),\n)"
      ]
    },
    {
      "cell_type": "markdown",
      "metadata": {},
      "source": [
        "<div class=\"alert alert-danger\"><h4>Warning</h4><p>Please set ``fast_dev_run`` to False to reproduce the our claimed results.\n   Otherwise, only a few mini-batches will be run.</p></div>\n\n"
      ]
    },
    {
      "cell_type": "code",
      "execution_count": null,
      "metadata": {
        "collapsed": false
      },
      "outputs": [],
      "source": [
        "fast_dev_run = True\n\nevaluator = Classification(\n    learning_rate=1e-3,\n    weight_decay=1e-4,\n    train_dataloaders=search_train_loader,\n    val_dataloaders=search_valid_loader,\n    max_epochs=10,\n    gpus=1,\n    fast_dev_run=fast_dev_run,\n)"
      ]
    },
    {
      "cell_type": "markdown",
      "metadata": {},
      "source": [
        "We will use DARTS (Differentiable ARchiTecture Search) as the search strategy to explore the model space.\nDARTS strategy belongs to the category of `one-shot strategy <one-shot-nas>`.\nThe fundamental differences between One-shot strategies and `multi-trial strategies <multi-trial-nas>` is that,\none-shot strategy combines search with model training into a single run.\nCompared to multi-trial strategies, one-shot NAS doesn't need to iteratively spawn new trials (i.e., models),\nand thus saves the excessive cost of model training.\nIt's worth mentioning that one-shot NAS also suffers from multiple drawbacks despite its computational efficiency.\nWe recommend\n[Weight-Sharing Neural Architecture Search: A Battle to Shrink the Optimization Gap](https://arxiv.org/abs/2008.01475)_\nand\n[How Does Supernet Help in Neural Architecture Search?](https://arxiv.org/abs/2010.08219)_ for interested readers.\n\nIf you want to know how DARTS strategy works, here is a brief version.\nUnder the hood, DARTS converts the cell into a densely connected graph, and put operators on edges (see the following figure).\nSince the operators are not decided yet, every edge is a weighted mixture of multiple operators (multiple color in the figure).\nDARTS then learns to assign the optimal \"color\" for each edge during the network training.\nIt finally selects one \"color\" for each edge, and drops redundant edges.\nThe weights on the edges are called *architecture weights*.\n\n<img src=\"file://../../img/darts_illustration.png\">\n\nIt's NOT reflected in the figure that, for DARTS model space, exactly two inputs are kept for every node.\n\n:class:`~nni.retiarii.strategy.DARTS` strategy is provided as one of NNI's :doc:`built-in search strategies </nas/exploration_strategy>`.\nUsing it can be as simple as one line of code.\n\n"
      ]
    },
    {
      "cell_type": "code",
      "execution_count": null,
      "metadata": {
        "collapsed": false
      },
      "outputs": [],
      "source": [
        "from nni.retiarii.strategy import DARTS as DartsStrategy\n\nstrategy = DartsStrategy()"
      ]
    },
    {
      "cell_type": "markdown",
      "metadata": {},
      "source": [
        ".. tip:: The ``DartsStrategy`` here can be replaced by any search strategies, even multi-trial strategies.\n\nLaunching the experiment is similar to what we have done in the :doc:`beginner tutorial <hello_nas>`,\nexcept that the ``execution_engine`` argument should be set to ``oneshot``.\n\n"
      ]
    },
    {
      "cell_type": "code",
      "execution_count": null,
      "metadata": {
        "collapsed": false
      },
      "outputs": [],
      "source": [
        "from nni.retiarii.experiment.pytorch import RetiariiExperiment, RetiariiExeConfig\n\nconfig = RetiariiExeConfig(execution_engine='oneshot')\nexperiment = RetiariiExperiment(model_space, evaluator=evaluator, strategy=strategy)\nexperiment.run(config)"
      ]
    },
    {
      "cell_type": "markdown",
      "metadata": {},
      "source": [
        ".. tip::\n\n   The search process can be visualized with tensorboard. For example::\n\n       tensorboard --logdir=./lightning_logs\n\n   Then, open the browser and go to http://localhost:6006/ to monitor the search process.\n\n   .. image:: ../../img/darts_search_process.png\n\nWe can then retrieve the best model found by the strategy with ``export_top_models``.\nHere, the retrieved model is a dict (called *architecture dict*) describing the selected normal cell and reduction cell.\n\n"
      ]
    },
    {
      "cell_type": "code",
      "execution_count": null,
      "metadata": {
        "collapsed": false
      },
      "outputs": [],
      "source": [
        "exported_arch = experiment.export_top_models()[0]\n\nexported_arch"
      ]
    },
    {
      "cell_type": "markdown",
      "metadata": {},
      "source": [
        "## Retrain the searched model\n\nWhat we have got in the last step, is only a cell structure.\nTo get a final usable model with trained weights, we need to construct a real model based on this structure,\nand then fully train it.\n\nTo construct a fixed model based on the architecture dict exported from the experiment,\nwe can use :func:`nni.retiarii.fixed_arch`. Seemingly, we are still creating a space.\nBut under the with-context, we are actually creating a fixed model.\n\nHere, we increase the number of filters to 36, and number of cells to 20,\nso as to reasonably increase the model size and boost the performance.\n\n"
      ]
    },
    {
      "cell_type": "code",
      "execution_count": null,
      "metadata": {
        "collapsed": false
      },
      "outputs": [],
      "source": [
        "from nni.retiarii import fixed_arch\n\nwith fixed_arch(exported_arch):\n    final_model = DartsSpace(36, 20, 'cifar')"
      ]
    },
    {
      "cell_type": "markdown",
      "metadata": {},
      "source": [
        "We then train the model on full CIFAR-10 training dataset, and evaluate it on the original CIFAR-10 validation dataset.\n\n"
      ]
    },
    {
      "cell_type": "code",
      "execution_count": null,
      "metadata": {
        "collapsed": false
      },
      "outputs": [],
      "source": [
        "train_loader = DataLoader(train_data, batch_size=96, num_workers=6)  # Use the original training data\n\ntransform_valid = transforms.Compose([\n    transforms.ToTensor(),\n    transforms.Normalize(CIFAR_MEAN, CIFAR_STD),\n])\nvalid_data = nni.trace(CIFAR10)(root='./data', train=False, download=True, transform=transform_valid)\nvalid_loader = DataLoader(train_data, batch_size=256, num_workers=6)"
      ]
    },
    {
      "cell_type": "markdown",
      "metadata": {},
      "source": [
        "Create a new evaluator here because we can using a different data split.\nAlso, we should avoid the underlying pytorch-lightning implementation of Classification evaluator from loading the wrong checkpoint.\n\n"
      ]
    },
    {
      "cell_type": "code",
      "execution_count": null,
      "metadata": {
        "collapsed": false
      },
      "outputs": [],
      "source": [
        "max_epochs = 100\n\nevaluator = Classification(\n    learning_rate=1e-3,\n    weight_decay=1e-4,\n    train_dataloaders=train_loader,\n    val_dataloaders=valid_loader,\n    max_epochs=max_epochs,\n    export_onnx=False,  # Disable ONNX export for this experiment\n    fast_dev_run=fast_dev_run,  # Should be false for fully training\n)\n\nevaluator.fit(final_model)"
      ]
    },
    {
      "cell_type": "markdown",
      "metadata": {},
      "source": [
        "When ``fast_dev_run`` is turned off, we get a model with the following architecture:\n\n```python\n{}\n```\nIt achieves a validation accuracy of XXX%.\n\n## Reproduce results in DARTS paper\n\nYou might notice there's still a gap between our results and the results in the DARTS paper.\nThis is because we didn't introduce some extra training tricks, including [DropPath](https://arxiv.org/pdf/1605.07648v4.pdf)_,\nAuxiliary loss, gradient clipping and augmentations like [Cutout](https://arxiv.org/pdf/1708.04552v2.pdf)_.\nThey also train the networks for longer time (i.e., 600 epochs).\n\nTo implement these tricks, we need to rewrite a few parts of evaluator.\n\nWorking with one-shot strategies, evaluators need to be implemented in the style of `PyTorch-Lightning <lightning-evaluator>`,\nThe full tutorial can be found in :doc:`/nas/evaluator`.\nPutting it briefly, the core part of writing a new evaluator is to write a new LightningModule.\n[LightingModule](https://pytorch-lightning.readthedocs.io/en/stable/common/lightning_module.html)_ is a concept in\nPyTorch-Lightning, which organizes the model training process into a list of functions, such as,\n``training_step``, ``validation_step``, ``configure_optimizers``, etc.\nSince we are merely adding a few ingredients to :class:`~nni.retiarii.evaluator.pytorch.Classification`,\nwe can simply inherit :class:`~nni.retiarii.evaluator.pytorch.ClassificationModule`, which is the underlying LightningModule\nbehind :class:`~nni.retiarii.evaluator.pytorch.Classification`.\nThis could look intimidating at first, but most of them are just plug-and-play tricks which you don't need to know details about.\n\n"
      ]
    },
    {
      "cell_type": "code",
      "execution_count": null,
      "metadata": {
        "collapsed": false
      },
      "outputs": [],
      "source": [
        "import torch\nfrom nni.retiarii.evaluator.pytorch import ClassificationModule\n\nclass DartsClassificationModule(ClassificationModule):\n    def __init__(\n        self,\n        learning_rate: float = 0.001,\n        weight_decay: float = 0.,\n        auxiliary_loss_weight: float = 0.4,\n        max_epochs: int = 600\n    ):\n        self.auxiliary_loss_weight = auxiliary_loss_weight\n        # Training length will be used in LR scheduler\n        self.max_epochs = max_epochs\n        super().__init__(learning_rate=learning_rate, weight_decay=weight_decay, export_onnx=False)\n\n    def configure_optimizers(self):\n        \"\"\"Customized optimizer with momentum, as well as a scheduler.\"\"\"\n        optimizer = torch.optim.SGD(\n            self.parameters(),\n            momentum=0.9,\n            lr=self.hparams.learning_rate,\n            weight_decay=self.hparams.weight_decay\n        )\n        return {\n            'optimizer': optimizer,\n            'lr_scheduler': torch.optim.lr_scheduler.CosineAnnealingLR(optimizer, self.max_epochs, eta_min=1e-3)\n        }\n\n    def training_step(self, batch, batch_idx):\n        \"\"\"Training step, customized with auxiliary loss.\"\"\"\n        x, y = batch\n        if self.auxiliary_loss_weight:\n            y_hat, y_aux = self(x)\n            loss_main = self.criterion(y_hat, y)\n            loss_aux = self.criterion(y_aux, y)\n            self.log('train_loss_main', loss_main)\n            self.log('train_loss_aux', loss_aux)\n            loss = loss_main + self.auxiliary_loss_weight * loss_aux\n        else:\n            y_hat = self(x)\n            loss = self.criterion(y_hat, y)\n        self.log('train_loss', loss, prog_bar=True)\n        for name, metric in self.metrics.items():\n            self.log('train_' + name, metric(y_hat, y), prog_bar=True)\n        return loss\n\n    def on_train_epoch_start(self):\n        # Set drop path probability before every epoch. This has no effect if drop path is not enabled in model.\n        self.model.set_drop_path_prob(self.model.drop_path_prob * self.current_epoch / self.max_epochs)\n\n        # Logging learning rate at the beginning of every epoch\n        self.log('lr', self.trainer.optimizers[0].param_groups[0]['lr'])"
      ]
    },
    {
      "cell_type": "markdown",
      "metadata": {},
      "source": [
        "The full evaluator is written as follows,\nwhich simply wraps everything (except model space and search strategy of course), in a single object.\n:class:`~nni.retiarii.evaluator.pytorch.Lightning` here is a special type of evaluator.\nDon't forget to use the train/val data split specialized for search (1:1) here.\n\n"
      ]
    },
    {
      "cell_type": "code",
      "execution_count": null,
      "metadata": {
        "collapsed": false
      },
      "outputs": [],
      "source": [
        "from nni.retiarii.evaluator.pytorch import Lightning, Trainer\n\nmax_epochs = 50\n\nevaluator = Lightning(\n    DartsClassificationModule(0.025, 3e-4, 0., max_epochs),\n    Trainer(\n        gpus=1,\n        max_epochs=max_epochs,\n        fast_dev_run=fast_dev_run,\n    ),\n    train_dataloaders=search_train_loader,\n    val_dataloaders=search_valid_loader\n)"
      ]
    },
    {
      "cell_type": "markdown",
      "metadata": {},
      "source": [
        "DARTS strategy is created with gradient clip turned on.\nIf you are familiar with PyTorch-Lightning, you might aware that gradient clipping can be enabled in Lightning trainer.\nHowever, enabling gradient cip in the trainer above won't work, because the underlying\nimplementation of DARTS strategy is based on\n[manual optimization](https://pytorch-lightning.readthedocs.io/en/stable/common/optimization.html)_.\n\n"
      ]
    },
    {
      "cell_type": "code",
      "execution_count": null,
      "metadata": {
        "collapsed": false
      },
      "outputs": [],
      "source": [
        "strategy = DartsStrategy(gradient_clip_val=5.)"
      ]
    },
    {
      "cell_type": "markdown",
      "metadata": {},
      "source": [
        "Then we use the newly created evaluator and strategy to launch the experiment again.\n\n<div class=\"alert alert-danger\"><h4>Warning</h4><p>``model_space`` has to be re-instantiated because a known limitation,\n   i.e., one model space can't be reused across multiple experiments.</p></div>\n\n"
      ]
    },
    {
      "cell_type": "code",
      "execution_count": null,
      "metadata": {
        "collapsed": false
      },
      "outputs": [],
      "source": [
        "model_space = DartsSpace(16, 8, 'cifar')\n\nconfig = RetiariiExeConfig(execution_engine='oneshot')\nexperiment = RetiariiExperiment(model_space, evaluator=evaluator, strategy=strategy)\nexperiment.run(config)\n\nexported_arch = experiment.export_top_models()[0]\n\nexported_arch"
      ]
    },
    {
      "cell_type": "markdown",
      "metadata": {},
      "source": [
        "When retraining,\nwe extend the original dataloader to introduce another trick called [Cutout](https://arxiv.org/pdf/1708.04552v2.pdf)_.\nCutout is a data augmentation technique that randomly masks out rectangular regions in images.\nIn CIFAR-10, the typical masked size is 16x16 (the image sizes are 32x32 in the dataset).\n\n"
      ]
    },
    {
      "cell_type": "code",
      "execution_count": null,
      "metadata": {
        "collapsed": false
      },
      "outputs": [],
      "source": [
        "def cutout_transform(img, length: int = 16):\n    h, w = img.size(1), img.size(2)\n    mask = np.ones((h, w), np.float32)\n    y = np.random.randint(h)\n    x = np.random.randint(w)\n\n    y1 = np.clip(y - length // 2, 0, h)\n    y2 = np.clip(y + length // 2, 0, h)\n    x1 = np.clip(x - length // 2, 0, w)\n    x2 = np.clip(x + length // 2, 0, w)\n\n    mask[y1: y2, x1: x2] = 0.\n    mask = torch.from_numpy(mask)\n    mask = mask.expand_as(img)\n    img *= mask\n    return img\n\ntransform_with_cutout = transforms.Compose([\n    transforms.RandomCrop(32, padding=4),\n    transforms.RandomHorizontalFlip(),\n    transforms.ToTensor(),\n    transforms.Normalize(CIFAR_MEAN, CIFAR_STD),\n    cutout_transform,\n])"
      ]
    },
    {
      "cell_type": "markdown",
      "metadata": {},
      "source": [
        "The train dataloader needs to be reinstantiated with the new transform.\nThe validation dataloader is not affected, and thus can be reused.\n\n"
      ]
    },
    {
      "cell_type": "code",
      "execution_count": null,
      "metadata": {
        "collapsed": false
      },
      "outputs": [],
      "source": [
        "train_data_cutout = nni.trace(CIFAR10)(root='./data', train=True, download=True, transform=transform_with_cutout)\ntrain_loader_cutout = DataLoader(train_data_cutout, batch_size=96)"
      ]
    },
    {
      "cell_type": "markdown",
      "metadata": {},
      "source": [
        "We then create the final model based on the new exported architecture.\nThis time, auxiliary loss and drop path probability is enabled.\n\n"
      ]
    },
    {
      "cell_type": "code",
      "execution_count": null,
      "metadata": {
        "collapsed": false
      },
      "outputs": [],
      "source": [
        "with fixed_arch(exported_arch):\n    final_model = DartsSpace(36, 20, 'cifar', auxiliary_loss=True, drop_path_prob=0.2)"
      ]
    },
    {
      "cell_type": "markdown",
      "metadata": {},
      "source": [
        "Launching the retraining requires creating another evaluator.\nWe can now put the gradient clipping in the keyword arguments of trainer.\n\n"
      ]
    },
    {
      "cell_type": "code",
      "execution_count": null,
      "metadata": {
        "collapsed": false
      },
      "outputs": [],
      "source": [
        "max_epochs = 600\n\nevaluator = Lightning(\n    DartsClassificationModule(0.025, 3e-4, 0.4, max_epochs),\n    Trainer(\n        gpus=1,\n        gradient_clip_val=5.,\n        max_epochs=max_epochs,\n        fast_dev_run=fast_dev_run\n    ),\n    train_dataloaders=train_loader_cutout,\n    val_dataloaders=valid_loader,\n)\n\nevaluator.fit(final_model)"
      ]
    },
    {
      "cell_type": "markdown",
      "metadata": {},
      "source": [
        "<div class=\"alert alert-info\"><h4>Note</h4><p>The full search and training takes around XX hours on a P100 GPU, and yields a top-1 accuracy of ~0.8%.</p></div>\n\n"
      ]
    }
  ],
  "metadata": {
    "kernelspec": {
      "display_name": "Python 3",
      "language": "python",
      "name": "python3"
    },
    "language_info": {
      "codemirror_mode": {
        "name": "ipython",
        "version": 3
      },
      "file_extension": ".py",
      "mimetype": "text/x-python",
      "name": "python",
      "nbconvert_exporter": "python",
      "pygments_lexer": "ipython3",
      "version": "3.8.13"
    }
  },
  "nbformat": 4,
  "nbformat_minor": 0
}