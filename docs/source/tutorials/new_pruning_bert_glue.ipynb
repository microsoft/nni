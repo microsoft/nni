{
  "cells": [
    {
      "cell_type": "code",
      "execution_count": null,
      "metadata": {
        "collapsed": false
      },
      "outputs": [],
      "source": [
        "%matplotlib inline"
      ]
    },
    {
      "cell_type": "markdown",
      "metadata": {},
      "source": [
        "\n# Pruning Bert on Task MNLI\n\nThis is a new tutorial on pruning transformer in nni v3.0 ([old tutorial](https://nni.readthedocs.io/en/v2.9/tutorials/pruning_bert_glue.html)_).\nThe main difference between this tutorial and the previous is that it integrates the feature of fusion compression (pruning + distillation) in nni,\nuses a new more powerful and stable pruning speedup tool,\nand additionally prunes the whole model hidden dimensions which greatly reduces the model size (pruning embedding layers).\n\nAt the same time, the huggingface [transformers.Trainer](https://huggingface.co/docs/transformers/main_classes/trainer)_ is used in this tutorial\nto reduce the burden of user writing training and evaluation logic.\n\n## Workable Pruning Process\n\nThe whole pruning process is divided into three steps:\n\n1. pruning attention layers,\n2. pruning feed forward layers,\n3. pruning embedding layers.\n\nIn each step, the pruner is first used for simulated pruning to generate masks corresponding to the module pruning targets (weight, input, output).\nAfter that comes the speedup stage, sparsity propagation is used to explore the global redundancy due to the local masks,\nthen modify the original model into a smaller one by replacing the sub module in the model.\n\nThe compression of the model naturally applies the distillation method,\nso in this tutorial, distillers will also be used to help restore the model accuracy.\n\n## Experiment\n\n### Preparations\n\nThe preparations mainly includes preparing the transformers trainer and model.\n\nThis is generally consistent with the preparations required to normally train a Bert model.\nThe only difference is that the ``transformers.Trainer`` is needed to wrap by ``nni.trace`` to trace the init arguments,\nthis is because nni need re-create trainer during training aware pruning and distilling.\n\n<div class=\"alert alert-info\"><h4>Note</h4><p>Please set ``skip_exec`` to ``False`` to run this tutorial. Here ``skip_exec`` is ``True`` by default is for generating documents.</p></div>\n"
      ]
    },
    {
      "cell_type": "code",
      "execution_count": null,
      "metadata": {
        "collapsed": false
      },
      "outputs": [],
      "source": [
        "from __future__ import annotations\n\nfrom pathlib import Path\n\nimport numpy as np\n\nimport torch\nfrom torch.utils.data import ConcatDataset\n\nimport nni\n\nfrom datasets import load_dataset, load_metric\nfrom transformers import BertTokenizerFast, DataCollatorWithPadding, BertForSequenceClassification, EvalPrediction\nfrom transformers.trainer import Trainer\nfrom transformers.training_args import TrainingArguments\n\nskip_exec = True"
      ]
    },
    {
      "cell_type": "markdown",
      "metadata": {},
      "source": [
        "Set the downstream task name here, you could replace the task with the task in GLUE.\n\n"
      ]
    },
    {
      "cell_type": "code",
      "execution_count": null,
      "metadata": {
        "collapsed": false
      },
      "outputs": [],
      "source": [
        "task_name = 'mnli'"
      ]
    },
    {
      "cell_type": "markdown",
      "metadata": {},
      "source": [
        "Here using BertForSequenceClassification as the base model for show case.\nIf you want to prune other kind of transformer model, you could replace the base model here.\n\n"
      ]
    },
    {
      "cell_type": "code",
      "execution_count": null,
      "metadata": {
        "collapsed": false
      },
      "outputs": [],
      "source": [
        "def build_model(pretrained_model_name_or_path: str, task_name: str):\n    is_regression = task_name == 'stsb'\n    num_labels = 1 if is_regression else (3 if task_name == 'mnli' else 2)\n    model = BertForSequenceClassification.from_pretrained(pretrained_model_name_or_path, num_labels=num_labels)\n    return model"
      ]
    },
    {
      "cell_type": "markdown",
      "metadata": {},
      "source": [
        "Prepare the GLUE train & validation datasets, if the task has multi validation datasets, concat the datasets by ``ConcatDataset``.\n\n"
      ]
    },
    {
      "cell_type": "code",
      "execution_count": null,
      "metadata": {
        "collapsed": false
      },
      "outputs": [],
      "source": [
        "def prepare_datasets(task_name: str, tokenizer: BertTokenizerFast, cache_dir: str):\n    task_to_keys = {\n        'cola': ('sentence', None),\n        'mnli': ('premise', 'hypothesis'),\n        'mrpc': ('sentence1', 'sentence2'),\n        'qnli': ('question', 'sentence'),\n        'qqp': ('question1', 'question2'),\n        'rte': ('sentence1', 'sentence2'),\n        'sst2': ('sentence', None),\n        'stsb': ('sentence1', 'sentence2'),\n        'wnli': ('sentence1', 'sentence2'),\n    }\n    sentence1_key, sentence2_key = task_to_keys[task_name]\n\n    # used to preprocess the raw data\n    def preprocess_function(examples):\n        # Tokenize the texts\n        args = (\n            (examples[sentence1_key],) if sentence2_key is None else (examples[sentence1_key], examples[sentence2_key])\n        )\n        result = tokenizer(*args, padding=False, max_length=128, truncation=True)\n\n        if 'label' in examples:\n            # In all cases, rename the column to labels because the model will expect that.\n            result['labels'] = examples['label']\n        return result\n\n    raw_datasets = load_dataset('glue', task_name, cache_dir=cache_dir)\n    for key in list(raw_datasets.keys()):\n        if 'test' in key:\n            raw_datasets.pop(key)\n\n    processed_datasets = raw_datasets.map(preprocess_function, batched=True,\n                                          remove_columns=raw_datasets['train'].column_names)\n\n    train_dataset = processed_datasets['train']\n    if task_name == 'mnli':\n        validation_datasets = {\n            'validation_matched': processed_datasets['validation_matched'],\n            'validation_mismatched': processed_datasets['validation_mismatched']\n        }\n    else:\n        validation_datasets = {\n            'validation': processed_datasets['validation']\n        }\n\n    return train_dataset, validation_datasets"
      ]
    },
    {
      "cell_type": "markdown",
      "metadata": {},
      "source": [
        "Prepare the trainer, note that the ``Trainer`` class is wrapped by ``nni.trace``.\n\n"
      ]
    },
    {
      "cell_type": "code",
      "execution_count": null,
      "metadata": {
        "collapsed": false
      },
      "outputs": [],
      "source": [
        "def prepare_traced_trainer(model, task_name, load_best_model_at_end=False):\n    is_regression = task_name == 'stsb'\n    metric = load_metric('glue', task_name)\n\n    def compute_metrics(p: EvalPrediction):\n        preds = p.predictions[0] if isinstance(p.predictions, tuple) else p.predictions\n        preds = np.squeeze(preds) if is_regression else np.argmax(preds, axis=1)\n        result = metric.compute(predictions=preds, references=p.label_ids)\n        result['default'] = result.get('f1', result.get('accuracy', 0.))\n        return result\n\n    tokenizer = BertTokenizerFast.from_pretrained('bert-base-uncased')\n    train_dataset, validation_datasets = prepare_datasets(task_name, tokenizer, None)\n    merged_validation_dataset = ConcatDataset([d for d in validation_datasets.values()])\n    data_collator = DataCollatorWithPadding(tokenizer)\n    training_args = TrainingArguments(output_dir='./output/trainer',\n                                      do_train=True,\n                                      do_eval=True,\n                                      evaluation_strategy='steps',\n                                      per_device_train_batch_size=32,\n                                      per_device_eval_batch_size=32,\n                                      num_train_epochs=3,\n                                      dataloader_num_workers=12,\n                                      learning_rate=3e-5,\n                                      save_strategy='steps',\n                                      save_total_limit=1,\n                                      metric_for_best_model='default',\n                                      load_best_model_at_end=load_best_model_at_end,\n                                      disable_tqdm=True,\n                                      optim='adamw_torch',\n                                      seed=1024)\n    trainer = nni.trace(Trainer)(model=model,\n                                 args=training_args,\n                                 data_collator=data_collator,\n                                 train_dataset=train_dataset,\n                                 eval_dataset=merged_validation_dataset,\n                                 tokenizer=tokenizer,\n                                 compute_metrics=compute_metrics,)\n    return trainer"
      ]
    },
    {
      "cell_type": "markdown",
      "metadata": {},
      "source": [
        "If the finetuned model is existed, directly load it.\nIf the finetuned model is not existed, train the pretrained model with the trainer.\n\n"
      ]
    },
    {
      "cell_type": "code",
      "execution_count": null,
      "metadata": {
        "collapsed": false
      },
      "outputs": [],
      "source": [
        "def build_finetuning_model(task_name: str, state_dict_path: str):\n    model = build_model('bert-base-uncased', task_name)\n    if Path(state_dict_path).exists():\n        model.load_state_dict(torch.load(state_dict_path))\n    else:\n        trainer = prepare_traced_trainer(model, task_name, True)\n        trainer.train()\n        torch.save(model.state_dict(), state_dict_path)\n    return model\n\n\nif not skip_exec:\n    Path('./output/bert_finetuned').mkdir(exist_ok=True, parents=True)\n    build_finetuning_model(task_name, f'./output/bert_finetuned/{task_name}.bin')"
      ]
    },
    {
      "cell_type": "markdown",
      "metadata": {},
      "source": [
        "The following code creates distillers for distillation.\n\n"
      ]
    },
    {
      "cell_type": "code",
      "execution_count": null,
      "metadata": {
        "collapsed": false
      },
      "outputs": [],
      "source": [
        "from nni.contrib.compression.distillation import DynamicLayerwiseDistiller, Adaptive1dLayerwiseDistiller\nfrom nni.contrib.compression.utils import TransformersEvaluator"
      ]
    },
    {
      "cell_type": "markdown",
      "metadata": {},
      "source": [
        "Dynamic distillation is suitable for the situation where the distillation states dimension of the student and the teacher match.\nA student state can try to distill on multiple teacher states, and finally select the teacher state with the smallest distillation loss as the target for distillation.\n\nIn this tutorial, dynamic distillation is applied before speedup the embedding pruning.\n\n"
      ]
    },
    {
      "cell_type": "code",
      "execution_count": null,
      "metadata": {
        "collapsed": false
      },
      "outputs": [],
      "source": [
        "def dynamic_distiller(student_model: BertForSequenceClassification, teacher_model: BertForSequenceClassification,\n                      student_trainer: Trainer):\n    layer_num = len(student_model.bert.encoder.layer)\n    config_list = [{\n        'op_names': [f'bert.encoder.layer.{i}'],\n        'link': [f'bert.encoder.layer.{j}' for j in range(i, layer_num)],\n        'lambda': 0.9,\n        'apply_method': 'mse',\n    } for i in range(layer_num)]\n    config_list.append({\n        'op_names': ['classifier'],\n        'link': ['classifier'],\n        'lambda': 0.9,\n        'apply_method': 'kl',\n    })\n\n    evaluator = TransformersEvaluator(student_trainer)\n\n    def teacher_predict(batch, teacher_model):\n        return teacher_model(**batch)\n\n    return DynamicLayerwiseDistiller(student_model, config_list, evaluator, teacher_model, teacher_predict, origin_loss_lambda=0.1)\n\n\ndef dynamic_distillation(student_model: BertForSequenceClassification, teacher_model: BertForSequenceClassification,\n                         max_steps: int | None, max_epochs: int | None):\n    student_trainer = prepare_traced_trainer(student_model, task_name, True)\n\n    ori_teacher_device = teacher_model.device\n    training = teacher_model.training\n    teacher_model.to(student_trainer.args.device).eval()\n\n    distiller = dynamic_distiller(student_model, teacher_model, student_trainer)\n    distiller.compress(max_steps, max_epochs)\n    distiller.unwrap_model()\n\n    teacher_model.to(ori_teacher_device).train(training)"
      ]
    },
    {
      "cell_type": "markdown",
      "metadata": {},
      "source": [
        "Adapt distillation is applied after pruning embedding layers.\nThe hidden states dimension will mismatch between student model and teacher model after pruning embedding layers,\nthen adapt distiller will add a linear layer for each distillation module pair to align dimension.\nFor example, pruning hidden dimension from 768 to 384, then for each student transformer block,\nwill add a ``Linear(in_features=384, out_features=768)`` for shifting dimention 384 to 768,\naligned with the teacher model transformer block output.\n\n"
      ]
    },
    {
      "cell_type": "code",
      "execution_count": null,
      "metadata": {
        "collapsed": false
      },
      "outputs": [],
      "source": [
        "def adapt_distiller(student_model: BertForSequenceClassification, teacher_model: BertForSequenceClassification,\n                    student_trainer: Trainer):\n    layer_num = len(student_model.bert.encoder.layer)\n    config_list = [{\n        'op_names': [f'bert.encoder.layer.{i}'],\n        'lambda': 0.9,\n        'apply_method': 'mse',\n    } for i in range(layer_num)]\n    config_list.append({\n        'op_names': ['classifier'],\n        'link': ['classifier'],\n        'lambda': 0.9,\n        'apply_method': 'kl',\n    })\n\n    evaluator = TransformersEvaluator(student_trainer)\n\n    def teacher_predict(batch, teacher_model):\n        return teacher_model(**batch)\n\n    return Adaptive1dLayerwiseDistiller(student_model, config_list, evaluator, teacher_model, teacher_predict, origin_loss_lambda=0.1)\n\n\ndef adapt_distillation(student_model: BertForSequenceClassification, teacher_model: BertForSequenceClassification,\n                       max_steps: int | None, max_epochs: int | None):\n    student_trainer = prepare_traced_trainer(student_model, task_name, True)\n\n    ori_teacher_device = teacher_model.device\n    training = teacher_model.training\n    teacher_model.to(student_trainer.args.device).eval()\n\n    distiller = adapt_distiller(student_model, teacher_model, student_trainer)\n    dummy_input = (torch.randint(0, 10000, [8, 128]), torch.randint(0, 2, [8, 128]), torch.randint(0, 2, [8, 128]))\n    dummy_input = [_.to(student_trainer.args.device) for _ in dummy_input]\n    distiller.track_forward(*dummy_input)\n\n    distiller.compress(max_steps, max_epochs)\n    distiller.unwrap_model()\n\n    teacher_model.to(ori_teacher_device).train(training)"
      ]
    },
    {
      "cell_type": "markdown",
      "metadata": {},
      "source": [
        "### Pruning Attention Layers\n\nHere using ``MovementPruner`` to generate block sparse masks. Choosing ``64 x 64`` block is because the head width is 64,\nthis is a kind of coarse grained between head pruning and finegrained pruning, also you can have a try with ``64 x 32``,\n``32 x 32`` or any other granularity here.\n\nWe use ``sparse_threshold`` instead of ``sparse_ratio`` here to apply adaptive sparse allocation.\n``sparse_threshold`` here is a float number between 0. and 1., but its value has little effect on the final sparse ratio.\nIf you want a more sparse model, you could set a larger ``regular_scale`` in ``MovementPruner``.\nYou could refer to the experiment results to choose a appropriate ``regular_scale`` you like.\n\n"
      ]
    },
    {
      "cell_type": "code",
      "execution_count": null,
      "metadata": {
        "collapsed": false
      },
      "outputs": [],
      "source": [
        "from nni.contrib.compression.pruning import MovementPruner\nfrom nni.compression.pytorch.speedup.v2 import ModelSpeedup\nfrom nni.compression.pytorch.speedup.v2.external_replacer import TransformersAttentionReplacer\n\n\ndef pruning_attn():\n    Path('./output/bert_finetuned/').mkdir(parents=True, exist_ok=True)\n    model = build_finetuning_model(task_name, f'./output/bert_finetuned/{task_name}.bin')\n    trainer = prepare_traced_trainer(model, task_name)\n    evaluator = TransformersEvaluator(trainer)\n\n    config_list = [{\n        'op_types': ['Linear'],\n        'op_names_re': ['bert\\.encoder\\.layer\\.[0-9]*\\.attention\\.*'],\n        'sparse_threshold': 0.1,\n        'granularity': [64, 64]\n    }]\n\n    pruner = MovementPruner(model, config_list, evaluator, warmup_step=9000, cooldown_begin_step=36000, regular_scale=10)\n    pruner.compress(None, 4)\n    pruner.unwrap_model()\n\n    masks = pruner.get_masks()\n    Path('./output/pruning/').mkdir(parents=True, exist_ok=True)\n    torch.save(masks, './output/pruning/attn_masks.pth')\n    torch.save(model, './output/pruning/attn_masked_model.pth')\n\n\nif not skip_exec:\n    pruning_attn()"
      ]
    },
    {
      "cell_type": "markdown",
      "metadata": {},
      "source": [
        "We apply head pruning during the speedup stage, if the head is fully masked it will be pruned,\nif the header is partially masked, it will be restored.\n\n"
      ]
    },
    {
      "cell_type": "code",
      "execution_count": null,
      "metadata": {
        "collapsed": false
      },
      "outputs": [],
      "source": [
        "def speedup_attn():\n    model = torch.load('./output/pruning/attn_masked_model.pth', map_location='cpu')\n    masks = torch.load('./output/pruning/attn_masks.pth', map_location='cpu')\n    dummy_input = (torch.randint(0, 10000, [8, 128]), torch.randint(0, 2, [8, 128]), torch.randint(0, 2, [8, 128]))\n    replacer = TransformersAttentionReplacer(model)\n    ModelSpeedup(model, dummy_input, masks, customized_replacers=[replacer]).speedup_model()\n\n    # finetuning\n    teacher_model = build_finetuning_model('mnli', f'./output/bert_finetuned/{task_name}.bin')\n    dynamic_distillation(model, teacher_model, None, 3)\n    torch.save(model, './output/pruning/attn_pruned_model.pth')\n\n\nif not skip_exec:\n    speedup_attn()"
      ]
    },
    {
      "cell_type": "markdown",
      "metadata": {},
      "source": [
        "### Pruning Feed Forward Layers\n\nHere using ``TaylorPruner`` for pruning feed forward layers,\nand the sparse ratio related to the pruned head number in the same transformer block.\nThe more heads are pruned, the higher the sparse ratio is set for feed forward layers.\n\nNote that ``TaylorPruner`` has no schedule sparse ratio function,\nso we use ``AGPPruner`` to schedule the sparse ratio to achieve better pruning performance.\n\n"
      ]
    },
    {
      "cell_type": "code",
      "execution_count": null,
      "metadata": {
        "collapsed": false
      },
      "outputs": [],
      "source": [
        "from nni.contrib.compression.pruning import TaylorPruner, AGPPruner\nfrom transformers.models.bert.modeling_bert import BertLayer\n\n\ndef pruning_ffn():\n    model: BertForSequenceClassification = torch.load('./output/pruning/attn_pruned_model.pth')\n    teacher_model: BertForSequenceClassification = build_finetuning_model('mnli', f'./output/bert_finetuned/{task_name}.bin')\n    # create ffn config list, here simply use a linear function related to the number of retained heads to determine the sparse ratio\n    config_list = []\n    for name, module in model.named_modules():\n        if isinstance(module, BertLayer):\n            retained_head_num = module.attention.self.num_attention_heads\n            ori_head_num = len(module.attention.pruned_heads) + retained_head_num\n            ffn_sparse_ratio = 1 - retained_head_num / ori_head_num / 2\n            config_list.append({'op_names': [f'{name}.intermediate.dense'], 'sparse_ratio': ffn_sparse_ratio})\n\n    trainer = prepare_traced_trainer(model, task_name)\n    teacher_model.eval().to(trainer.args.device)\n    # create a distiller for restoring the accuracy\n    distiller = dynamic_distiller(model, teacher_model, trainer)\n    # fusion compress: TaylorPruner + DynamicLayerwiseDistiller\n    taylor_pruner = TaylorPruner.from_compressor(distiller, config_list, 1000)\n    # fusion compress: AGPPruner(TaylorPruner) + DynamicLayerwiseDistiller\n    agp_pruner = AGPPruner(taylor_pruner, 1000, 36)\n    agp_pruner.compress(None, 3)\n    agp_pruner.unwrap_model()\n    distiller.unwrap_teacher_model()\n\n    masks = agp_pruner.get_masks()\n    Path('./output/pruning/').mkdir(parents=True, exist_ok=True)\n    torch.save(masks, './output/pruning/ffn_masks.pth')\n    torch.save(model, './output/pruning/ffn_masked_model.pth')\n\n\nif not skip_exec:\n    pruning_ffn()"
      ]
    },
    {
      "cell_type": "markdown",
      "metadata": {},
      "source": [
        "Speedup the feed forward layers.\n\n"
      ]
    },
    {
      "cell_type": "code",
      "execution_count": null,
      "metadata": {
        "collapsed": false
      },
      "outputs": [],
      "source": [
        "def speedup_ffn():\n    model = torch.load('./output/pruning/ffn_masked_model.pth', map_location='cpu')\n    masks = torch.load('./output/pruning/ffn_masks.pth', map_location='cpu')\n    dummy_input = (torch.randint(0, 10000, [8, 128]), torch.randint(0, 2, [8, 128]), torch.randint(0, 2, [8, 128]))\n    ModelSpeedup(model, dummy_input, masks).speedup_model()\n\n    # finetuning\n    teacher_model = build_finetuning_model('mnli', f'./output/bert_finetuned/{task_name}.bin')\n    dynamic_distillation(model, teacher_model, None, 3)\n    torch.save(model, './output/pruning/ffn_pruned_model.pth')\n\n\nif not skip_exec:\n    speedup_ffn()"
      ]
    },
    {
      "cell_type": "markdown",
      "metadata": {},
      "source": [
        "### Pruning Embedding Layers\n\nWe want to simulate the pruning effect better, so we register the output mask setting for ``BertAttention`` and ``BertOutput``.\nThe output masks can be generated and applied after register the setting template for them.\n\n"
      ]
    },
    {
      "cell_type": "code",
      "execution_count": null,
      "metadata": {
        "collapsed": false
      },
      "outputs": [],
      "source": [
        "from nni.contrib.compression.base.setting import PruningSetting\n\noutput_align_setting = {\n    '_output_': {\n        'align': {\n            'module_name': None,\n            'target_name': 'weight',\n            'dims': [0],\n        },\n        'apply_method': 'mul',\n    }\n}\nPruningSetting.register('BertAttention', output_align_setting)\nPruningSetting.register('BertOutput', output_align_setting)"
      ]
    },
    {
      "cell_type": "markdown",
      "metadata": {},
      "source": [
        "Similar to prune feed forward layers, we also use ``AGPPruner + TaylorPruner + DynamicLayerwiseDistiller`` here.\nFor the better pruning effect simulation, set output ``align`` mask generation in ``config_list``,\nthen the relevant layers will generate its own output masks according to the embedding masks.\n\n"
      ]
    },
    {
      "cell_type": "code",
      "execution_count": null,
      "metadata": {
        "collapsed": false
      },
      "outputs": [],
      "source": [
        "def pruning_embedding():\n    model: BertForSequenceClassification = torch.load('./output/pruning/ffn_pruned_model.pth')\n    teacher_model: BertForSequenceClassification = build_finetuning_model('mnli', f'./output/bert_finetuned/{task_name}.bin')\n\n    sparse_ratio = 0.5\n    config_list = [{\n        'op_types': ['Embedding'],\n        'op_names_re': ['bert\\.embeddings.*'],\n        'sparse_ratio': sparse_ratio,\n        'dependency_group_id': 1,\n        'granularity': [-1, 1],\n    }, {\n        'op_names_re': ['bert\\.encoder\\.layer\\.[0-9]*\\.attention$',\n                        'bert\\.encoder\\.layer\\.[0-9]*\\.output$'],\n        'target_names': ['_output_'],\n        'target_settings': {\n            '_output_': {\n                'align': {\n                    'module_name': 'bert.embeddings.word_embeddings',\n                    'target_name': 'weight',\n                    'dims': [1],\n                }\n            }\n        }\n    }, {\n        'op_names_re': ['bert\\.encoder\\.layer\\.[0-9]*\\.attention.output.dense',\n                        'bert\\.encoder\\.layer\\.[0-9]*\\.output.dense'],\n        'target_names': ['weight'],\n        'target_settings': {\n            'weight': {\n                'granularity': 'out_channel',\n                'align': {\n                    'module_name': 'bert.embeddings.word_embeddings',\n                    'target_name': 'weight',\n                    'dims': [1],\n                }\n            }\n        }\n    }]\n\n    trainer = prepare_traced_trainer(model, task_name)\n    teacher_model.eval().to(trainer.args.device)\n    distiller = dynamic_distiller(model, teacher_model, trainer)\n    taylor_pruner = TaylorPruner.from_compressor(distiller, config_list, 1000)\n    agp_pruner = AGPPruner(taylor_pruner, 1000, 36)\n    agp_pruner.compress(None, 3)\n    agp_pruner.unwrap_model()\n    distiller.unwrap_teacher_model()\n\n    masks = agp_pruner.get_masks()\n    Path('./output/pruning/').mkdir(parents=True, exist_ok=True)\n    torch.save(masks, './output/pruning/embedding_masks.pth')\n    torch.save(model, './output/pruning/embedding_masked_model.pth')\n\n\nif not skip_exec:\n    pruning_embedding()"
      ]
    },
    {
      "cell_type": "markdown",
      "metadata": {},
      "source": [
        "Speedup the embedding layers.\n\n"
      ]
    },
    {
      "cell_type": "code",
      "execution_count": null,
      "metadata": {
        "collapsed": false
      },
      "outputs": [],
      "source": [
        "def speedup_embedding():\n    model = torch.load('./output/pruning/embedding_masked_model.pth', map_location='cpu')\n    masks = torch.load('./output/pruning/embedding_masks.pth', map_location='cpu')\n    dummy_input = (torch.randint(0, 10000, [8, 128]), torch.randint(0, 2, [8, 128]), torch.randint(0, 2, [8, 128]))\n    ModelSpeedup(model, dummy_input, masks).speedup_model()\n\n    # finetuning\n    teacher_model = build_finetuning_model('mnli', f'./output/bert_finetuned/{task_name}.bin')\n    adapt_distillation(model, teacher_model, None, 4)\n    torch.save(model, './output/pruning/embedding_pruned_model.pth')\n\n\nif not skip_exec:\n    speedup_embedding()"
      ]
    },
    {
      "cell_type": "markdown",
      "metadata": {},
      "source": [
        "### Evaluation\n\nEvaluate the pruned model size and accuracy.\n\n"
      ]
    },
    {
      "cell_type": "code",
      "execution_count": null,
      "metadata": {
        "collapsed": false
      },
      "outputs": [],
      "source": [
        "def evaluate_pruned_model():\n    model: BertForSequenceClassification = torch.load('./output/pruning/embedding_pruned_model.pth')\n    trainer = prepare_traced_trainer(model, task_name)\n    metric = trainer.evaluate()\n    pruned_num_params = sum(param.numel() for param in model.parameters()) + sum(buffer.numel() for buffer in model.buffers())\n\n    model = build_finetuning_model(task_name, f'./output/bert_finetuned/{task_name}.bin')\n    ori_num_params = sum(param.numel() for param in model.parameters()) + sum(buffer.numel() for buffer in model.buffers())\n    print(f'Metric: {metric}\\nSparsity: {1 - pruned_num_params / ori_num_params}')\n\n\nif not skip_exec:\n    evaluate_pruned_model()"
      ]
    },
    {
      "cell_type": "markdown",
      "metadata": {},
      "source": [
        "## Results\n\n.. list-table:: Prune Bert-base-uncased on MNLI\n    :header-rows: 1\n    :widths: auto\n\n    * - Total Sparsity\n      - Accuracy\n      - Acc. Drop\n    * - 57.76%\n      - 84.42%\n      - ?\n    * - 68.31%\n      - 83.33%\n      - ?\n    * - 81.65%\n      - 82.08%\n      - ?\n    * - 84.32%\n      - 81.35%\n      - ?\n\n"
      ]
    }
  ],
  "metadata": {
    "kernelspec": {
      "display_name": "Python 3",
      "language": "python",
      "name": "python3"
    },
    "language_info": {
      "codemirror_mode": {
        "name": "ipython",
        "version": 3
      },
      "file_extension": ".py",
      "mimetype": "text/x-python",
      "name": "python",
      "nbconvert_exporter": "python",
      "pygments_lexer": "ipython3",
      "version": "3.9.16"
    }
  },
  "nbformat": 4,
  "nbformat_minor": 0
}