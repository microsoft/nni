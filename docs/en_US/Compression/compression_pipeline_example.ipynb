{
 "cells": [
  {
   "cell_type": "markdown",
   "id": "bc5e99a7",
   "metadata": {},
   "source": [
    "# 1. Prepare model"
   ]
  },
  {
   "cell_type": "code",
   "execution_count": 1,
   "id": "587bb096",
   "metadata": {},
   "outputs": [],
   "source": [
    "import torch\n",
    "import torch.nn.functional as F\n",
    "\n",
    "class NaiveModel(torch.nn.Module):\n",
    "    def __init__(self):\n",
    "        super().__init__()\n",
    "        self.conv1 = torch.nn.Conv2d(1, 20, 5, 1)\n",
    "        self.conv2 = torch.nn.Conv2d(20, 50, 5, 1)\n",
    "        self.fc1 = torch.nn.Linear(4 * 4 * 50, 500)\n",
    "        self.fc2 = torch.nn.Linear(500, 10)\n",
    "        self.relu1 = torch.nn.ReLU6()\n",
    "        self.relu2 = torch.nn.ReLU6()\n",
    "        self.relu3 = torch.nn.ReLU6()\n",
    "        self.max_pool1 = torch.nn.MaxPool2d(2, 2)\n",
    "        self.max_pool2 = torch.nn.MaxPool2d(2, 2)\n",
    "\n",
    "    def forward(self, x):\n",
    "        x = self.relu1(self.conv1(x))\n",
    "        x = self.max_pool1(x)\n",
    "        x = self.relu2(self.conv2(x))\n",
    "        x = self.max_pool2(x)\n",
    "        x = x.view(-1, x.size()[1:].numel())\n",
    "        x = self.relu3(self.fc1(x))\n",
    "        x = self.fc2(x)\n",
    "        return F.log_softmax(x, dim=1)"
   ]
  },
  {
   "cell_type": "code",
   "execution_count": 2,
   "id": "2fd1b8a1",
   "metadata": {},
   "outputs": [],
   "source": [
    "# define model, optimizer, criterion, data_loader, trainer, evaluator.\n",
    "\n",
    "import torch.optim as optim\n",
    "from torchvision import datasets, transforms\n",
    "from torch.optim.lr_scheduler import StepLR\n",
    "\n",
    "device = torch.device(\"cuda\" if torch.cuda.is_available() else \"cpu\")\n",
    "\n",
    "model = NaiveModel().to(device)\n",
    "\n",
    "optimizer = optim.Adadelta(model.parameters(), lr=1)\n",
    "\n",
    "criterion = torch.nn.NLLLoss()\n",
    "\n",
    "transform=transforms.Compose([transforms.ToTensor(), transforms.Normalize((0.1307,), (0.3081,))])\n",
    "train_dataset = datasets.MNIST('./data', train=True, download=True, transform=transform)\n",
    "test_dataset = datasets.MNIST('./data', train=False, transform=transform)\n",
    "train_loader = torch.utils.data.DataLoader(train_dataset, batch_size=64)\n",
    "test_loader = torch.utils.data.DataLoader(test_dataset, batch_size=1000)\n",
    "\n",
    "def trainer(model, optimizer, criterion, epoch):\n",
    "    model.train()\n",
    "    for batch_idx, (data, target) in enumerate(train_loader):\n",
    "        data, target = data.to(device), target.to(device)\n",
    "        optimizer.zero_grad()\n",
    "        output = model(data)\n",
    "        loss = criterion(output, target)\n",
    "        loss.backward()\n",
    "        optimizer.step()\n",
    "        if batch_idx % 100 == 0:\n",
    "            print('Train Epoch: {} [{}/{} ({:.0f}%)]\\tLoss: {:.6f}'.format(\n",
    "                epoch, batch_idx * len(data), len(train_loader.dataset),\n",
    "                100. * batch_idx / len(train_loader), loss.item()))\n",
    "\n",
    "def evaluator(model):\n",
    "    model.eval()\n",
    "    test_loss = 0\n",
    "    correct = 0\n",
    "    with torch.no_grad():\n",
    "        for data, target in test_loader:\n",
    "            data, target = data.to(device), target.to(device)\n",
    "            output = model(data)\n",
    "            test_loss += F.nll_loss(output, target, reduction='sum').item()\n",
    "            pred = output.argmax(dim=1, keepdim=True)\n",
    "            correct += pred.eq(target.view_as(pred)).sum().item()\n",
    "\n",
    "    test_loss /= len(test_loader.dataset)\n",
    "    acc = 100 * correct / len(test_loader.dataset)\n",
    "\n",
    "    print('\\nTest set: Average loss: {:.4f}, Accuracy: {}/{} ({:.0f}%)\\n'.format(\n",
    "        test_loss, correct, len(test_loader.dataset), acc))\n",
    "\n",
    "    return acc"
   ]
  },
  {
   "cell_type": "code",
   "execution_count": 3,
   "id": "51c980cc",
   "metadata": {},
   "outputs": [
    {
     "name": "stdout",
     "output_type": "stream",
     "text": [
      "Train Epoch: 0 [0/60000 (0%)]\tLoss: 2.305085\n",
      "Train Epoch: 0 [6400/60000 (11%)]\tLoss: 0.087794\n",
      "Train Epoch: 0 [12800/60000 (21%)]\tLoss: 0.071808\n",
      "Train Epoch: 0 [19200/60000 (32%)]\tLoss: 0.052543\n",
      "Train Epoch: 0 [25600/60000 (43%)]\tLoss: 0.042050\n",
      "Train Epoch: 0 [32000/60000 (53%)]\tLoss: 0.059767\n",
      "Train Epoch: 0 [38400/60000 (64%)]\tLoss: 0.088583\n",
      "Train Epoch: 0 [44800/60000 (75%)]\tLoss: 0.025175\n",
      "Train Epoch: 0 [51200/60000 (85%)]\tLoss: 0.069685\n",
      "Train Epoch: 0 [57600/60000 (96%)]\tLoss: 0.071096\n",
      "\n",
      "Test set: Average loss: 0.0387, Accuracy: 9870/10000 (99%)\n",
      "\n",
      "Train Epoch: 1 [0/60000 (0%)]\tLoss: 0.022943\n",
      "Train Epoch: 1 [6400/60000 (11%)]\tLoss: 0.105162\n",
      "Train Epoch: 1 [12800/60000 (21%)]\tLoss: 0.015032\n",
      "Train Epoch: 1 [19200/60000 (32%)]\tLoss: 0.065901\n",
      "Train Epoch: 1 [25600/60000 (43%)]\tLoss: 0.017623\n",
      "Train Epoch: 1 [32000/60000 (53%)]\tLoss: 0.014979\n",
      "Train Epoch: 1 [38400/60000 (64%)]\tLoss: 0.059367\n",
      "Train Epoch: 1 [44800/60000 (75%)]\tLoss: 0.004011\n",
      "Train Epoch: 1 [51200/60000 (85%)]\tLoss: 0.075617\n",
      "Train Epoch: 1 [57600/60000 (96%)]\tLoss: 0.054290\n",
      "\n",
      "Test set: Average loss: 0.0281, Accuracy: 9914/10000 (99%)\n",
      "\n",
      "Train Epoch: 2 [0/60000 (0%)]\tLoss: 0.028292\n",
      "Train Epoch: 2 [6400/60000 (11%)]\tLoss: 0.051077\n",
      "Train Epoch: 2 [12800/60000 (21%)]\tLoss: 0.008416\n",
      "Train Epoch: 2 [19200/60000 (32%)]\tLoss: 0.045495\n",
      "Train Epoch: 2 [25600/60000 (43%)]\tLoss: 0.005774\n",
      "Train Epoch: 2 [32000/60000 (53%)]\tLoss: 0.004956\n",
      "Train Epoch: 2 [38400/60000 (64%)]\tLoss: 0.054154\n",
      "Train Epoch: 2 [44800/60000 (75%)]\tLoss: 0.004117\n",
      "Train Epoch: 2 [51200/60000 (85%)]\tLoss: 0.102934\n",
      "Train Epoch: 2 [57600/60000 (96%)]\tLoss: 0.006569\n",
      "\n",
      "Test set: Average loss: 0.0249, Accuracy: 9922/10000 (99%)\n",
      "\n"
     ]
    }
   ],
   "source": [
    "# pre-train model for 3 epoches.\n",
    "\n",
    "scheduler = StepLR(optimizer, step_size=1, gamma=0.7)\n",
    "\n",
    "for epoch in range(0, 3):\n",
    "    trainer(model, optimizer, criterion, epoch)\n",
    "    evaluator(model)\n",
    "    scheduler.step()"
   ]
  },
  {
   "cell_type": "code",
   "execution_count": 4,
   "id": "715ca455",
   "metadata": {},
   "outputs": [
    {
     "name": "stdout",
     "output_type": "stream",
     "text": [
      "op_name: \n",
      "op_type: <class '__main__.NaiveModel'>\n",
      "\n",
      "op_name: conv1\n",
      "op_type: <class 'torch.nn.modules.conv.Conv2d'>\n",
      "\n",
      "op_name: conv2\n",
      "op_type: <class 'torch.nn.modules.conv.Conv2d'>\n",
      "\n",
      "op_name: fc1\n",
      "op_type: <class 'torch.nn.modules.linear.Linear'>\n",
      "\n",
      "op_name: fc2\n",
      "op_type: <class 'torch.nn.modules.linear.Linear'>\n",
      "\n",
      "op_name: relu1\n",
      "op_type: <class 'torch.nn.modules.activation.ReLU6'>\n",
      "\n",
      "op_name: relu2\n",
      "op_type: <class 'torch.nn.modules.activation.ReLU6'>\n",
      "\n",
      "op_name: relu3\n",
      "op_type: <class 'torch.nn.modules.activation.ReLU6'>\n",
      "\n",
      "op_name: max_pool1\n",
      "op_type: <class 'torch.nn.modules.pooling.MaxPool2d'>\n",
      "\n",
      "op_name: max_pool2\n",
      "op_type: <class 'torch.nn.modules.pooling.MaxPool2d'>\n",
      "\n"
     ]
    },
    {
     "data": {
      "text/plain": [
       "[None, None, None, None, None, None, None, None, None, None]"
      ]
     },
     "execution_count": 4,
     "metadata": {},
     "output_type": "execute_result"
    }
   ],
   "source": [
    "# show all op_name and op_type in the model.\n",
    "\n",
    "[print('op_name: {}\\nop_type: {}\\n'.format(name, type(module))) for name, module in model.named_modules()]"
   ]
  },
  {
   "cell_type": "code",
   "execution_count": 5,
   "id": "e939b794",
   "metadata": {},
   "outputs": [
    {
     "name": "stdout",
     "output_type": "stream",
     "text": [
      "torch.Size([20, 1, 5, 5])\n"
     ]
    }
   ],
   "source": [
    "# show the weight size of `conv1`.\n",
    "\n",
    "print(model.conv1.weight.data.size())"
   ]
  },
  {
   "cell_type": "code",
   "execution_count": 6,
   "id": "14e619bc",
   "metadata": {},
   "outputs": [
    {
     "name": "stdout",
     "output_type": "stream",
     "text": [
      "tensor([[[[ 1.4062e-02, -8.6881e-02, -1.5064e-01, -1.4052e-01, -6.2882e-02],\n",
      "          [-6.7817e-02, -1.1632e-01,  8.8717e-02, -9.9771e-02, -2.4367e-01],\n",
      "          [ 2.1462e-01,  3.8977e-02, -3.5050e-02, -1.0038e-01, -2.0465e-01],\n",
      "          [ 5.6569e-02,  1.6690e-02,  1.0047e-03,  1.6719e-01,  6.3830e-02],\n",
      "          [ 1.0092e-01,  1.6766e-01,  4.7926e-02,  1.4435e-01,  1.8343e-01]]],\n",
      "\n",
      "\n",
      "        [[[ 6.2452e-02, -1.1161e-01, -2.3515e-01, -1.7988e-01,  8.1673e-02],\n",
      "          [-1.0257e-01,  1.6148e-01,  1.5648e-02,  1.7896e-01,  7.1744e-02],\n",
      "          [ 9.2075e-02, -1.1183e-01,  1.6258e-01, -5.3247e-02, -1.8561e-01],\n",
      "          [-4.7560e-02, -1.5353e-01,  6.0327e-02, -1.4421e-02,  4.3231e-02],\n",
      "          [ 1.2019e-02,  8.9593e-02,  5.7141e-02, -1.4745e-01,  6.9632e-02]]],\n",
      "\n",
      "\n",
      "        [[[ 4.5266e-02,  1.3604e-01, -4.2105e-02, -5.8486e-03, -1.9377e-01],\n",
      "          [ 1.3444e-01, -2.8849e-02,  3.8052e-02,  3.9119e-03, -1.8110e-02],\n",
      "          [ 1.4361e-01,  1.0363e-01,  1.3143e-01,  6.4049e-02, -1.2116e-01],\n",
      "          [-2.3751e-01, -4.4861e-02, -1.1147e-01, -8.4480e-02, -5.2740e-02],\n",
      "          [-2.5407e-01, -1.5400e-01,  7.1090e-02,  5.2054e-02,  9.2225e-02]]],\n",
      "\n",
      "\n",
      "        [[[-3.6579e-02,  1.2931e-02, -7.7369e-04,  5.1166e-02, -1.2996e-01],\n",
      "          [-2.8718e-02, -2.3440e-03, -1.6990e-01, -9.5432e-02, -1.8349e-01],\n",
      "          [ 1.0312e-02,  1.1191e-01,  2.0440e-01,  2.9117e-01, -4.2706e-02],\n",
      "          [ 1.2202e-01, -3.6006e-02, -7.7146e-02,  1.8253e-01,  1.8042e-01],\n",
      "          [-1.0639e-01, -8.5206e-02, -1.5122e-01, -2.3512e-01, -6.4009e-02]]],\n",
      "\n",
      "\n",
      "        [[[ 4.4629e-02, -8.3173e-02,  1.7135e-01, -1.9724e-01, -2.0294e-01],\n",
      "          [ 1.0069e-01, -9.7992e-02,  1.0872e-01, -4.9484e-02, -1.9944e-01],\n",
      "          [-1.4561e-01, -1.1641e-01,  1.2852e-01, -1.2942e-01,  1.2288e-01],\n",
      "          [-9.9213e-02,  5.8947e-02,  3.9060e-02,  1.5826e-01,  1.5144e-01],\n",
      "          [ 7.1559e-02, -6.4393e-02,  1.3137e-01,  8.1937e-02, -9.2376e-02]]],\n",
      "\n",
      "\n",
      "        [[[ 2.0401e-02, -2.8089e-01, -1.4402e-02,  9.1621e-03,  1.8381e-01],\n",
      "          [ 1.7160e-01,  4.3029e-02,  1.3225e-01,  1.2824e-01,  2.6677e-03],\n",
      "          [ 1.6299e-02,  2.3485e-01,  2.1494e-01,  1.3217e-01,  2.0450e-02],\n",
      "          [-8.4278e-02, -1.3895e-01, -8.0044e-02, -1.8198e-01, -1.4034e-01],\n",
      "          [-3.1137e-02, -2.1646e-01, -3.0815e-01, -1.9081e-01, -6.6308e-02]]],\n",
      "\n",
      "\n",
      "        [[[-1.2490e-01,  1.2118e-01,  9.8041e-02, -2.1881e-01,  1.9310e-02],\n",
      "          [ 2.5340e-02,  1.9550e-02, -2.2553e-01,  1.4614e-01, -4.0965e-02],\n",
      "          [ 2.0221e-01, -1.9737e-02, -2.7683e-01, -9.3528e-02, -4.3375e-02],\n",
      "          [-1.0228e-01,  2.4527e-01, -1.0739e-01,  1.0269e-01,  1.8327e-01],\n",
      "          [-7.7680e-02,  1.8485e-01,  1.1671e-02, -3.1352e-05, -2.0797e-01]]],\n",
      "\n",
      "\n",
      "        [[[-2.0000e-01, -5.4176e-02,  6.5458e-02,  1.7695e-01,  1.2677e-01],\n",
      "          [-2.1761e-01,  1.9747e-01,  9.1372e-02, -1.7502e-01, -9.0609e-02],\n",
      "          [ 1.0203e-01,  3.1285e-02, -1.1749e-01, -2.2004e-01,  1.2833e-01],\n",
      "          [-5.4832e-02, -5.4640e-02, -2.0530e-01, -2.6275e-03,  1.4739e-01],\n",
      "          [ 1.1985e-01,  1.6219e-01,  1.3345e-01,  2.9948e-02, -1.1780e-01]]],\n",
      "\n",
      "\n",
      "        [[[-7.1082e-02, -1.5490e-01,  4.7140e-03, -1.5904e-01,  3.0343e-02],\n",
      "          [-2.3762e-01,  4.6658e-02, -1.3297e-01,  1.6971e-01,  2.0133e-01],\n",
      "          [-8.4524e-02,  8.0347e-02,  6.1533e-02, -4.5349e-02,  8.4417e-02],\n",
      "          [ 1.4146e-01, -8.2434e-02, -7.0810e-02,  3.8076e-02,  1.3901e-01],\n",
      "          [-8.9394e-02, -1.7627e-01,  1.4577e-02,  1.8046e-02,  1.3824e-01]]],\n",
      "\n",
      "\n",
      "        [[[ 3.0957e-01,  1.7575e-01,  3.1427e-01, -1.4655e-01, -2.4009e-01],\n",
      "          [ 1.1074e-01,  2.1468e-01, -1.5895e-01, -3.0465e-01, -4.1385e-02],\n",
      "          [-1.0958e-01, -2.0255e-01, -2.8555e-01, -5.6843e-02,  8.8670e-02],\n",
      "          [-1.5603e-01, -1.8626e-01, -6.9181e-02, -1.0916e-01, -8.8519e-02],\n",
      "          [-9.5996e-02, -1.0862e-01, -2.8376e-02,  5.4966e-02,  4.4371e-02]]],\n",
      "\n",
      "\n",
      "        [[[-4.1851e-02, -1.6314e-01, -1.1149e-01,  1.6852e-01,  1.1348e-01],\n",
      "          [-3.0183e-02,  4.7165e-02, -3.7545e-01, -4.1440e-01, -2.9232e-01],\n",
      "          [ 1.9635e-01, -9.6739e-02, -2.1721e-02,  2.9484e-02, -2.8472e-02],\n",
      "          [-1.7564e-01,  2.0942e-01, -5.5914e-02,  1.1863e-01, -1.0016e-01],\n",
      "          [-3.8391e-02,  2.7194e-02,  2.2582e-01,  2.2573e-01,  6.0549e-02]]],\n",
      "\n",
      "\n",
      "        [[[-4.1647e-02,  2.2144e-01,  5.0863e-02,  1.0218e-01, -3.0725e-02],\n",
      "          [-1.2288e-01,  2.5672e-01, -8.2108e-02, -1.8645e-01, -1.5915e-01],\n",
      "          [ 7.2242e-03,  2.5521e-01,  6.0175e-02, -1.4125e-01, -2.8743e-01],\n",
      "          [ 2.3066e-02,  6.2987e-02, -1.5151e-01,  3.6941e-02, -1.8691e-01],\n",
      "          [ 2.5631e-02,  1.0626e-01, -1.1261e-01, -9.5230e-02,  1.1462e-02]]],\n",
      "\n",
      "\n",
      "        [[[ 2.0129e-02,  2.0373e-01,  1.6954e-01,  1.7858e-01, -1.8664e-02],\n",
      "          [-2.0536e-01, -2.0743e-02, -6.4132e-02,  1.1706e-01,  1.3492e-01],\n",
      "          [-1.6843e-01, -1.8643e-01, -3.7573e-02,  1.9789e-02, -1.4838e-01],\n",
      "          [ 4.7784e-02, -3.2891e-01, -2.0172e-01,  9.8581e-02,  1.0739e-01],\n",
      "          [ 2.0638e-01,  1.7102e-01, -1.7724e-01, -1.3402e-01,  1.4129e-02]]],\n",
      "\n",
      "\n",
      "        [[[ 1.6234e-01, -1.0415e-01, -1.1524e-01,  1.6886e-01,  1.9467e-01],\n",
      "          [ 9.4268e-02, -1.9632e-02,  1.5878e-01,  3.8351e-02,  3.2772e-01],\n",
      "          [ 8.5785e-02, -1.1386e-01, -1.0838e-01,  1.0661e-01, -8.3002e-02],\n",
      "          [-3.8061e-01,  9.5827e-03, -2.3623e-01, -3.1037e-01, -2.6564e-01],\n",
      "          [-1.9051e-01, -2.5111e-01, -2.0180e-01, -2.5811e-01, -1.6945e-01]]],\n",
      "\n",
      "\n",
      "        [[[-1.1147e-01,  1.6650e-01,  1.5355e-01, -1.3412e-01,  6.3759e-02],\n",
      "          [ 9.9198e-02, -1.5300e-02,  4.3552e-02, -4.6508e-02,  2.1286e-02],\n",
      "          [-2.0227e-01, -2.7208e-02,  1.4306e-01, -4.3522e-02, -4.1540e-02],\n",
      "          [-2.1828e-01, -1.4811e-01, -3.3353e-02,  2.3453e-01, -4.6623e-02],\n",
      "          [ 6.4233e-03,  1.1747e-02,  2.3592e-02,  1.0227e-01, -1.7922e-01]]],\n",
      "\n",
      "\n",
      "        [[[ 1.6822e-01, -5.3943e-02, -1.5118e-01, -1.0471e-01,  5.3036e-02],\n",
      "          [-7.9721e-02, -3.6167e-01,  7.4355e-02,  4.8729e-02,  1.0774e-01],\n",
      "          [-2.0551e-01, -1.0760e-01,  2.5393e-01,  1.3596e-01,  6.9100e-02],\n",
      "          [-1.8287e-01,  1.5504e-01,  1.6537e-01, -9.8606e-02, -8.3051e-02],\n",
      "          [-1.2152e-02,  1.4754e-01, -4.3282e-02,  9.3296e-05,  9.0587e-02]]],\n",
      "\n",
      "\n",
      "        [[[ 1.5311e-01, -1.6864e-02, -8.0861e-02,  1.5983e-02, -2.1934e-02],\n",
      "          [-1.2332e-01,  3.0136e-02, -1.5615e-01, -4.6839e-02,  1.0007e-01],\n",
      "          [ 1.8339e-02, -2.1566e-01, -1.6327e-01,  2.7602e-01, -3.6171e-02],\n",
      "          [-2.9465e-01, -1.2902e-01,  1.3984e-01,  3.6030e-02, -4.9785e-02],\n",
      "          [ 4.9131e-02,  3.0675e-02,  1.1428e-01,  1.1977e-01, -6.7257e-02]]],\n",
      "\n",
      "\n",
      "        [[[-7.7300e-03, -1.0609e-01,  1.0518e-01,  9.0011e-02, -1.1751e-01],\n",
      "          [ 1.0891e-01,  4.2932e-02, -4.7686e-02, -1.2300e-01, -2.8791e-01],\n",
      "          [-2.1339e-01,  2.1293e-01,  1.5593e-01, -4.9824e-02, -2.1765e-01],\n",
      "          [-6.4281e-02,  7.0837e-02,  1.6125e-01,  1.5310e-01,  1.6357e-01],\n",
      "          [-8.6811e-03, -2.0335e-01,  1.0776e-01, -1.0305e-01, -1.2623e-02]]],\n",
      "\n",
      "\n",
      "        [[[-1.2348e-01, -1.5794e-01, -2.3475e-01,  9.6880e-02,  1.6924e-01],\n",
      "          [ 1.2381e-02, -8.9461e-03, -2.2910e-01, -6.9662e-02,  1.8078e-01],\n",
      "          [-2.7515e-02, -1.5935e-01, -1.9515e-01,  8.1272e-02,  2.0040e-01],\n",
      "          [-2.9374e-02, -2.1998e-02, -2.4027e-01,  1.5159e-01,  1.8933e-03],\n",
      "          [ 5.7871e-02, -4.8370e-02, -5.6221e-03, -1.5127e-01,  1.7740e-01]]],\n",
      "\n",
      "\n",
      "        [[[-5.3965e-02,  8.0258e-02,  1.2749e-01, -2.5321e-01, -2.0075e-01],\n",
      "          [ 1.5155e-02, -5.2478e-02, -2.3832e-02, -7.0772e-02, -2.0446e-02],\n",
      "          [-5.3310e-02,  1.4862e-01,  2.6107e-01,  2.0163e-01, -3.6436e-02],\n",
      "          [-6.4104e-02, -1.2738e-01,  1.0044e-01, -1.5656e-02,  2.1182e-01],\n",
      "          [-1.3891e-01, -1.5847e-01, -1.1148e-01, -1.5520e-01, -1.0983e-01]]]],\n",
      "       device='cuda:0')\n"
     ]
    }
   ],
   "source": [
    "# show the weight of `conv1`.\n",
    "\n",
    "print(model.conv1.weight.data)"
   ]
  },
  {
   "cell_type": "markdown",
   "id": "a475d7a9",
   "metadata": {},
   "source": [
    "# 2. Prepare config_list for pruning"
   ]
  },
  {
   "cell_type": "code",
   "execution_count": 7,
   "id": "3a77ff04",
   "metadata": {},
   "outputs": [],
   "source": [
    "# we will prune 50% weights in `conv1`.\n",
    "\n",
    "config_list = [{\n",
    "    'sparsity': 0.5,\n",
    "    'op_types': ['Conv2d'],\n",
    "    'op_names': ['conv1']\n",
    "}]"
   ]
  },
  {
   "cell_type": "markdown",
   "id": "7eea6f43",
   "metadata": {},
   "source": [
    "# 3. Choose a pruner and pruning"
   ]
  },
  {
   "cell_type": "code",
   "execution_count": 8,
   "id": "441bffe8",
   "metadata": {},
   "outputs": [],
   "source": [
    "# use l1filter pruner to prune the model\n",
    "\n",
    "from nni.algorithms.compression.pytorch.pruning import L1FilterPruner\n",
    "\n",
    "# Note that if you use a compressor that need you to pass a optimizer,\n",
    "# you need a new optimizer instead of you have used above, because NNI might modify the optimizer.\n",
    "# And of course this modified optimizer can not be used in finetuning.\n",
    "pruner = L1FilterPruner(model, config_list)"
   ]
  },
  {
   "cell_type": "code",
   "execution_count": 9,
   "id": "09c4ef84",
   "metadata": {},
   "outputs": [
    {
     "name": "stdout",
     "output_type": "stream",
     "text": [
      "op_name: \n",
      "op_type: <class '__main__.NaiveModel'>\n",
      "\n",
      "op_name: conv1\n",
      "op_type: <class 'nni.compression.pytorch.compressor.PrunerModuleWrapper'>\n",
      "\n",
      "op_name: conv1.module\n",
      "op_type: <class 'torch.nn.modules.conv.Conv2d'>\n",
      "\n",
      "op_name: conv2\n",
      "op_type: <class 'torch.nn.modules.conv.Conv2d'>\n",
      "\n",
      "op_name: fc1\n",
      "op_type: <class 'torch.nn.modules.linear.Linear'>\n",
      "\n",
      "op_name: fc2\n",
      "op_type: <class 'torch.nn.modules.linear.Linear'>\n",
      "\n",
      "op_name: relu1\n",
      "op_type: <class 'torch.nn.modules.activation.ReLU6'>\n",
      "\n",
      "op_name: relu2\n",
      "op_type: <class 'torch.nn.modules.activation.ReLU6'>\n",
      "\n",
      "op_name: relu3\n",
      "op_type: <class 'torch.nn.modules.activation.ReLU6'>\n",
      "\n",
      "op_name: max_pool1\n",
      "op_type: <class 'torch.nn.modules.pooling.MaxPool2d'>\n",
      "\n",
      "op_name: max_pool2\n",
      "op_type: <class 'torch.nn.modules.pooling.MaxPool2d'>\n",
      "\n"
     ]
    },
    {
     "data": {
      "text/plain": [
       "[None, None, None, None, None, None, None, None, None, None, None]"
      ]
     },
     "execution_count": 9,
     "metadata": {},
     "output_type": "execute_result"
    }
   ],
   "source": [
    "# we can find the `conv1` has been wrapped, the origin `conv1` changes to `conv1.module`.\n",
    "# the weight of conv1 will modify by `weight * mask` in `forward()`. The initial mask is a `ones_like(weight)` tensor.\n",
    "\n",
    "[print('op_name: {}\\nop_type: {}\\n'.format(name, type(module))) for name, module in model.named_modules()]"
   ]
  },
  {
   "cell_type": "code",
   "execution_count": 10,
   "id": "677367ca",
   "metadata": {},
   "outputs": [
    {
     "data": {
      "text/plain": [
       "NaiveModel(\n",
       "  (conv1): PrunerModuleWrapper(\n",
       "    (module): Conv2d(1, 20, kernel_size=(5, 5), stride=(1, 1))\n",
       "  )\n",
       "  (conv2): Conv2d(20, 50, kernel_size=(5, 5), stride=(1, 1))\n",
       "  (fc1): Linear(in_features=800, out_features=500, bias=True)\n",
       "  (fc2): Linear(in_features=500, out_features=10, bias=True)\n",
       "  (relu1): ReLU6()\n",
       "  (relu2): ReLU6()\n",
       "  (relu3): ReLU6()\n",
       "  (max_pool1): MaxPool2d(kernel_size=2, stride=2, padding=0, dilation=1, ceil_mode=False)\n",
       "  (max_pool2): MaxPool2d(kernel_size=2, stride=2, padding=0, dilation=1, ceil_mode=False)\n",
       ")"
      ]
     },
     "execution_count": 10,
     "metadata": {},
     "output_type": "execute_result"
    }
   ],
   "source": [
    "# compress the model, the mask will be updated.\n",
    "\n",
    "pruner.compress()"
   ]
  },
  {
   "cell_type": "code",
   "execution_count": 11,
   "id": "a331f568",
   "metadata": {},
   "outputs": [
    {
     "name": "stdout",
     "output_type": "stream",
     "text": [
      "torch.Size([20, 1, 5, 5])\n"
     ]
    }
   ],
   "source": [
    "# show the mask size of `conv1`\n",
    "\n",
    "print(model.conv1.weight_mask.size())"
   ]
  },
  {
   "cell_type": "code",
   "execution_count": 12,
   "id": "37804490",
   "metadata": {},
   "outputs": [
    {
     "name": "stdout",
     "output_type": "stream",
     "text": [
      "tensor([[[[0., 0., 0., 0., 0.],\n",
      "          [0., 0., 0., 0., 0.],\n",
      "          [0., 0., 0., 0., 0.],\n",
      "          [0., 0., 0., 0., 0.],\n",
      "          [0., 0., 0., 0., 0.]]],\n",
      "\n",
      "\n",
      "        [[[0., 0., 0., 0., 0.],\n",
      "          [0., 0., 0., 0., 0.],\n",
      "          [0., 0., 0., 0., 0.],\n",
      "          [0., 0., 0., 0., 0.],\n",
      "          [0., 0., 0., 0., 0.]]],\n",
      "\n",
      "\n",
      "        [[[0., 0., 0., 0., 0.],\n",
      "          [0., 0., 0., 0., 0.],\n",
      "          [0., 0., 0., 0., 0.],\n",
      "          [0., 0., 0., 0., 0.],\n",
      "          [0., 0., 0., 0., 0.]]],\n",
      "\n",
      "\n",
      "        [[[0., 0., 0., 0., 0.],\n",
      "          [0., 0., 0., 0., 0.],\n",
      "          [0., 0., 0., 0., 0.],\n",
      "          [0., 0., 0., 0., 0.],\n",
      "          [0., 0., 0., 0., 0.]]],\n",
      "\n",
      "\n",
      "        [[[1., 1., 1., 1., 1.],\n",
      "          [1., 1., 1., 1., 1.],\n",
      "          [1., 1., 1., 1., 1.],\n",
      "          [1., 1., 1., 1., 1.],\n",
      "          [1., 1., 1., 1., 1.]]],\n",
      "\n",
      "\n",
      "        [[[1., 1., 1., 1., 1.],\n",
      "          [1., 1., 1., 1., 1.],\n",
      "          [1., 1., 1., 1., 1.],\n",
      "          [1., 1., 1., 1., 1.],\n",
      "          [1., 1., 1., 1., 1.]]],\n",
      "\n",
      "\n",
      "        [[[1., 1., 1., 1., 1.],\n",
      "          [1., 1., 1., 1., 1.],\n",
      "          [1., 1., 1., 1., 1.],\n",
      "          [1., 1., 1., 1., 1.],\n",
      "          [1., 1., 1., 1., 1.]]],\n",
      "\n",
      "\n",
      "        [[[1., 1., 1., 1., 1.],\n",
      "          [1., 1., 1., 1., 1.],\n",
      "          [1., 1., 1., 1., 1.],\n",
      "          [1., 1., 1., 1., 1.],\n",
      "          [1., 1., 1., 1., 1.]]],\n",
      "\n",
      "\n",
      "        [[[0., 0., 0., 0., 0.],\n",
      "          [0., 0., 0., 0., 0.],\n",
      "          [0., 0., 0., 0., 0.],\n",
      "          [0., 0., 0., 0., 0.],\n",
      "          [0., 0., 0., 0., 0.]]],\n",
      "\n",
      "\n",
      "        [[[1., 1., 1., 1., 1.],\n",
      "          [1., 1., 1., 1., 1.],\n",
      "          [1., 1., 1., 1., 1.],\n",
      "          [1., 1., 1., 1., 1.],\n",
      "          [1., 1., 1., 1., 1.]]],\n",
      "\n",
      "\n",
      "        [[[1., 1., 1., 1., 1.],\n",
      "          [1., 1., 1., 1., 1.],\n",
      "          [1., 1., 1., 1., 1.],\n",
      "          [1., 1., 1., 1., 1.],\n",
      "          [1., 1., 1., 1., 1.]]],\n",
      "\n",
      "\n",
      "        [[[0., 0., 0., 0., 0.],\n",
      "          [0., 0., 0., 0., 0.],\n",
      "          [0., 0., 0., 0., 0.],\n",
      "          [0., 0., 0., 0., 0.],\n",
      "          [0., 0., 0., 0., 0.]]],\n",
      "\n",
      "\n",
      "        [[[1., 1., 1., 1., 1.],\n",
      "          [1., 1., 1., 1., 1.],\n",
      "          [1., 1., 1., 1., 1.],\n",
      "          [1., 1., 1., 1., 1.],\n",
      "          [1., 1., 1., 1., 1.]]],\n",
      "\n",
      "\n",
      "        [[[1., 1., 1., 1., 1.],\n",
      "          [1., 1., 1., 1., 1.],\n",
      "          [1., 1., 1., 1., 1.],\n",
      "          [1., 1., 1., 1., 1.],\n",
      "          [1., 1., 1., 1., 1.]]],\n",
      "\n",
      "\n",
      "        [[[0., 0., 0., 0., 0.],\n",
      "          [0., 0., 0., 0., 0.],\n",
      "          [0., 0., 0., 0., 0.],\n",
      "          [0., 0., 0., 0., 0.],\n",
      "          [0., 0., 0., 0., 0.]]],\n",
      "\n",
      "\n",
      "        [[[1., 1., 1., 1., 1.],\n",
      "          [1., 1., 1., 1., 1.],\n",
      "          [1., 1., 1., 1., 1.],\n",
      "          [1., 1., 1., 1., 1.],\n",
      "          [1., 1., 1., 1., 1.]]],\n",
      "\n",
      "\n",
      "        [[[0., 0., 0., 0., 0.],\n",
      "          [0., 0., 0., 0., 0.],\n",
      "          [0., 0., 0., 0., 0.],\n",
      "          [0., 0., 0., 0., 0.],\n",
      "          [0., 0., 0., 0., 0.]]],\n",
      "\n",
      "\n",
      "        [[[1., 1., 1., 1., 1.],\n",
      "          [1., 1., 1., 1., 1.],\n",
      "          [1., 1., 1., 1., 1.],\n",
      "          [1., 1., 1., 1., 1.],\n",
      "          [1., 1., 1., 1., 1.]]],\n",
      "\n",
      "\n",
      "        [[[0., 0., 0., 0., 0.],\n",
      "          [0., 0., 0., 0., 0.],\n",
      "          [0., 0., 0., 0., 0.],\n",
      "          [0., 0., 0., 0., 0.],\n",
      "          [0., 0., 0., 0., 0.]]],\n",
      "\n",
      "\n",
      "        [[[0., 0., 0., 0., 0.],\n",
      "          [0., 0., 0., 0., 0.],\n",
      "          [0., 0., 0., 0., 0.],\n",
      "          [0., 0., 0., 0., 0.],\n",
      "          [0., 0., 0., 0., 0.]]]], device='cuda:0')\n"
     ]
    }
   ],
   "source": [
    "# show the mask of `conv1`\n",
    "\n",
    "print(model.conv1.weight_mask)"
   ]
  },
  {
   "cell_type": "code",
   "execution_count": 13,
   "id": "e3821089",
   "metadata": {},
   "outputs": [
    {
     "name": "stdout",
     "output_type": "stream",
     "text": [
      "tensor([[[[ 0.0000e+00, -0.0000e+00, -0.0000e+00, -0.0000e+00, -0.0000e+00],\n",
      "          [-0.0000e+00, -0.0000e+00,  0.0000e+00, -0.0000e+00, -0.0000e+00],\n",
      "          [ 0.0000e+00,  0.0000e+00, -0.0000e+00, -0.0000e+00, -0.0000e+00],\n",
      "          [ 0.0000e+00,  0.0000e+00,  0.0000e+00,  0.0000e+00,  0.0000e+00],\n",
      "          [ 0.0000e+00,  0.0000e+00,  0.0000e+00,  0.0000e+00,  0.0000e+00]]],\n",
      "\n",
      "\n",
      "        [[[ 0.0000e+00, -0.0000e+00, -0.0000e+00, -0.0000e+00,  0.0000e+00],\n",
      "          [-0.0000e+00,  0.0000e+00,  0.0000e+00,  0.0000e+00,  0.0000e+00],\n",
      "          [ 0.0000e+00, -0.0000e+00,  0.0000e+00, -0.0000e+00, -0.0000e+00],\n",
      "          [-0.0000e+00, -0.0000e+00,  0.0000e+00, -0.0000e+00,  0.0000e+00],\n",
      "          [ 0.0000e+00,  0.0000e+00,  0.0000e+00, -0.0000e+00,  0.0000e+00]]],\n",
      "\n",
      "\n",
      "        [[[ 0.0000e+00,  0.0000e+00, -0.0000e+00, -0.0000e+00, -0.0000e+00],\n",
      "          [ 0.0000e+00, -0.0000e+00,  0.0000e+00,  0.0000e+00, -0.0000e+00],\n",
      "          [ 0.0000e+00,  0.0000e+00,  0.0000e+00,  0.0000e+00, -0.0000e+00],\n",
      "          [-0.0000e+00, -0.0000e+00, -0.0000e+00, -0.0000e+00, -0.0000e+00],\n",
      "          [-0.0000e+00, -0.0000e+00,  0.0000e+00,  0.0000e+00,  0.0000e+00]]],\n",
      "\n",
      "\n",
      "        [[[-0.0000e+00,  0.0000e+00, -0.0000e+00,  0.0000e+00, -0.0000e+00],\n",
      "          [-0.0000e+00, -0.0000e+00, -0.0000e+00, -0.0000e+00, -0.0000e+00],\n",
      "          [ 0.0000e+00,  0.0000e+00,  0.0000e+00,  0.0000e+00, -0.0000e+00],\n",
      "          [ 0.0000e+00, -0.0000e+00, -0.0000e+00,  0.0000e+00,  0.0000e+00],\n",
      "          [-0.0000e+00, -0.0000e+00, -0.0000e+00, -0.0000e+00, -0.0000e+00]]],\n",
      "\n",
      "\n",
      "        [[[ 4.4629e-02, -8.3173e-02,  1.7135e-01, -1.9724e-01, -2.0294e-01],\n",
      "          [ 1.0069e-01, -9.7992e-02,  1.0872e-01, -4.9484e-02, -1.9944e-01],\n",
      "          [-1.4561e-01, -1.1641e-01,  1.2852e-01, -1.2942e-01,  1.2288e-01],\n",
      "          [-9.9213e-02,  5.8947e-02,  3.9060e-02,  1.5826e-01,  1.5144e-01],\n",
      "          [ 7.1559e-02, -6.4393e-02,  1.3137e-01,  8.1937e-02, -9.2376e-02]]],\n",
      "\n",
      "\n",
      "        [[[ 2.0401e-02, -2.8089e-01, -1.4402e-02,  9.1621e-03,  1.8381e-01],\n",
      "          [ 1.7160e-01,  4.3029e-02,  1.3225e-01,  1.2824e-01,  2.6677e-03],\n",
      "          [ 1.6299e-02,  2.3485e-01,  2.1494e-01,  1.3217e-01,  2.0450e-02],\n",
      "          [-8.4278e-02, -1.3895e-01, -8.0044e-02, -1.8198e-01, -1.4034e-01],\n",
      "          [-3.1137e-02, -2.1646e-01, -3.0815e-01, -1.9081e-01, -6.6308e-02]]],\n",
      "\n",
      "\n",
      "        [[[-1.2490e-01,  1.2118e-01,  9.8041e-02, -2.1881e-01,  1.9310e-02],\n",
      "          [ 2.5340e-02,  1.9550e-02, -2.2553e-01,  1.4614e-01, -4.0965e-02],\n",
      "          [ 2.0221e-01, -1.9737e-02, -2.7683e-01, -9.3528e-02, -4.3375e-02],\n",
      "          [-1.0228e-01,  2.4527e-01, -1.0739e-01,  1.0269e-01,  1.8327e-01],\n",
      "          [-7.7680e-02,  1.8485e-01,  1.1671e-02, -3.1352e-05, -2.0797e-01]]],\n",
      "\n",
      "\n",
      "        [[[-2.0000e-01, -5.4176e-02,  6.5458e-02,  1.7695e-01,  1.2677e-01],\n",
      "          [-2.1761e-01,  1.9747e-01,  9.1372e-02, -1.7502e-01, -9.0609e-02],\n",
      "          [ 1.0203e-01,  3.1285e-02, -1.1749e-01, -2.2004e-01,  1.2833e-01],\n",
      "          [-5.4832e-02, -5.4640e-02, -2.0530e-01, -2.6275e-03,  1.4739e-01],\n",
      "          [ 1.1985e-01,  1.6219e-01,  1.3345e-01,  2.9948e-02, -1.1780e-01]]],\n",
      "\n",
      "\n",
      "        [[[-0.0000e+00, -0.0000e+00,  0.0000e+00, -0.0000e+00,  0.0000e+00],\n",
      "          [-0.0000e+00,  0.0000e+00, -0.0000e+00,  0.0000e+00,  0.0000e+00],\n",
      "          [-0.0000e+00,  0.0000e+00,  0.0000e+00, -0.0000e+00,  0.0000e+00],\n",
      "          [ 0.0000e+00, -0.0000e+00, -0.0000e+00,  0.0000e+00,  0.0000e+00],\n",
      "          [-0.0000e+00, -0.0000e+00,  0.0000e+00,  0.0000e+00,  0.0000e+00]]],\n",
      "\n",
      "\n",
      "        [[[ 3.0957e-01,  1.7575e-01,  3.1427e-01, -1.4655e-01, -2.4009e-01],\n",
      "          [ 1.1074e-01,  2.1468e-01, -1.5895e-01, -3.0465e-01, -4.1385e-02],\n",
      "          [-1.0958e-01, -2.0255e-01, -2.8555e-01, -5.6843e-02,  8.8670e-02],\n",
      "          [-1.5603e-01, -1.8626e-01, -6.9181e-02, -1.0916e-01, -8.8519e-02],\n",
      "          [-9.5996e-02, -1.0862e-01, -2.8376e-02,  5.4966e-02,  4.4371e-02]]],\n",
      "\n",
      "\n",
      "        [[[-4.1851e-02, -1.6314e-01, -1.1149e-01,  1.6852e-01,  1.1348e-01],\n",
      "          [-3.0183e-02,  4.7165e-02, -3.7545e-01, -4.1440e-01, -2.9232e-01],\n",
      "          [ 1.9635e-01, -9.6739e-02, -2.1721e-02,  2.9484e-02, -2.8472e-02],\n",
      "          [-1.7564e-01,  2.0942e-01, -5.5914e-02,  1.1863e-01, -1.0016e-01],\n",
      "          [-3.8391e-02,  2.7194e-02,  2.2582e-01,  2.2573e-01,  6.0549e-02]]],\n",
      "\n",
      "\n",
      "        [[[-0.0000e+00,  0.0000e+00,  0.0000e+00,  0.0000e+00, -0.0000e+00],\n",
      "          [-0.0000e+00,  0.0000e+00, -0.0000e+00, -0.0000e+00, -0.0000e+00],\n",
      "          [ 0.0000e+00,  0.0000e+00,  0.0000e+00, -0.0000e+00, -0.0000e+00],\n",
      "          [ 0.0000e+00,  0.0000e+00, -0.0000e+00,  0.0000e+00, -0.0000e+00],\n",
      "          [ 0.0000e+00,  0.0000e+00, -0.0000e+00, -0.0000e+00,  0.0000e+00]]],\n",
      "\n",
      "\n",
      "        [[[ 2.0129e-02,  2.0373e-01,  1.6954e-01,  1.7858e-01, -1.8664e-02],\n",
      "          [-2.0536e-01, -2.0743e-02, -6.4132e-02,  1.1706e-01,  1.3492e-01],\n",
      "          [-1.6843e-01, -1.8643e-01, -3.7573e-02,  1.9789e-02, -1.4838e-01],\n",
      "          [ 4.7784e-02, -3.2891e-01, -2.0172e-01,  9.8581e-02,  1.0739e-01],\n",
      "          [ 2.0638e-01,  1.7102e-01, -1.7724e-01, -1.3402e-01,  1.4129e-02]]],\n",
      "\n",
      "\n",
      "        [[[ 1.6234e-01, -1.0415e-01, -1.1524e-01,  1.6886e-01,  1.9467e-01],\n",
      "          [ 9.4268e-02, -1.9632e-02,  1.5878e-01,  3.8351e-02,  3.2772e-01],\n",
      "          [ 8.5785e-02, -1.1386e-01, -1.0838e-01,  1.0661e-01, -8.3002e-02],\n",
      "          [-3.8061e-01,  9.5827e-03, -2.3623e-01, -3.1037e-01, -2.6564e-01],\n",
      "          [-1.9051e-01, -2.5111e-01, -2.0180e-01, -2.5811e-01, -1.6945e-01]]],\n",
      "\n",
      "\n",
      "        [[[-0.0000e+00,  0.0000e+00,  0.0000e+00, -0.0000e+00,  0.0000e+00],\n",
      "          [ 0.0000e+00, -0.0000e+00,  0.0000e+00, -0.0000e+00,  0.0000e+00],\n",
      "          [-0.0000e+00, -0.0000e+00,  0.0000e+00, -0.0000e+00, -0.0000e+00],\n",
      "          [-0.0000e+00, -0.0000e+00, -0.0000e+00,  0.0000e+00, -0.0000e+00],\n",
      "          [ 0.0000e+00,  0.0000e+00,  0.0000e+00,  0.0000e+00, -0.0000e+00]]],\n",
      "\n",
      "\n",
      "        [[[ 1.6822e-01, -5.3943e-02, -1.5118e-01, -1.0471e-01,  5.3036e-02],\n",
      "          [-7.9721e-02, -3.6167e-01,  7.4355e-02,  4.8729e-02,  1.0774e-01],\n",
      "          [-2.0551e-01, -1.0760e-01,  2.5393e-01,  1.3596e-01,  6.9100e-02],\n",
      "          [-1.8287e-01,  1.5504e-01,  1.6537e-01, -9.8606e-02, -8.3051e-02],\n",
      "          [-1.2152e-02,  1.4754e-01, -4.3282e-02,  9.3296e-05,  9.0587e-02]]],\n",
      "\n",
      "\n",
      "        [[[ 0.0000e+00, -0.0000e+00, -0.0000e+00,  0.0000e+00, -0.0000e+00],\n",
      "          [-0.0000e+00,  0.0000e+00, -0.0000e+00, -0.0000e+00,  0.0000e+00],\n",
      "          [ 0.0000e+00, -0.0000e+00, -0.0000e+00,  0.0000e+00, -0.0000e+00],\n",
      "          [-0.0000e+00, -0.0000e+00,  0.0000e+00,  0.0000e+00, -0.0000e+00],\n",
      "          [ 0.0000e+00,  0.0000e+00,  0.0000e+00,  0.0000e+00, -0.0000e+00]]],\n",
      "\n",
      "\n",
      "        [[[-7.7300e-03, -1.0609e-01,  1.0518e-01,  9.0011e-02, -1.1751e-01],\n",
      "          [ 1.0891e-01,  4.2932e-02, -4.7686e-02, -1.2300e-01, -2.8791e-01],\n",
      "          [-2.1339e-01,  2.1293e-01,  1.5593e-01, -4.9824e-02, -2.1765e-01],\n",
      "          [-6.4281e-02,  7.0837e-02,  1.6125e-01,  1.5310e-01,  1.6357e-01],\n",
      "          [-8.6811e-03, -2.0335e-01,  1.0776e-01, -1.0305e-01, -1.2623e-02]]],\n",
      "\n",
      "\n",
      "        [[[-0.0000e+00, -0.0000e+00, -0.0000e+00,  0.0000e+00,  0.0000e+00],\n",
      "          [ 0.0000e+00, -0.0000e+00, -0.0000e+00, -0.0000e+00,  0.0000e+00],\n",
      "          [-0.0000e+00, -0.0000e+00, -0.0000e+00,  0.0000e+00,  0.0000e+00],\n",
      "          [-0.0000e+00, -0.0000e+00, -0.0000e+00,  0.0000e+00,  0.0000e+00],\n",
      "          [ 0.0000e+00, -0.0000e+00, -0.0000e+00, -0.0000e+00,  0.0000e+00]]],\n",
      "\n",
      "\n",
      "        [[[-0.0000e+00,  0.0000e+00,  0.0000e+00, -0.0000e+00, -0.0000e+00],\n",
      "          [ 0.0000e+00, -0.0000e+00, -0.0000e+00, -0.0000e+00, -0.0000e+00],\n",
      "          [-0.0000e+00,  0.0000e+00,  0.0000e+00,  0.0000e+00, -0.0000e+00],\n",
      "          [-0.0000e+00, -0.0000e+00,  0.0000e+00, -0.0000e+00,  0.0000e+00],\n",
      "          [-0.0000e+00, -0.0000e+00, -0.0000e+00, -0.0000e+00, -0.0000e+00]]]],\n",
      "       device='cuda:0')\n"
     ]
    }
   ],
   "source": [
    "# use a dummy input to apply the sparsify.\n",
    "\n",
    "model(torch.rand(1, 1, 28, 28).to(device))\n",
    "\n",
    "# the weights of `conv1` have been sparsified.\n",
    "\n",
    "print(model.conv1.module.weight.data)"
   ]
  },
  {
   "cell_type": "code",
   "execution_count": 14,
   "id": "97aca9a9",
   "metadata": {
    "scrolled": true
   },
   "outputs": [
    {
     "name": "stdout",
     "output_type": "stream",
     "text": [
      "[2021-07-19 15:44:52] INFO (nni.compression.pytorch.compressor/MainThread) Model state_dict saved to pruned_naive_mnist_l1filter.pth\n",
      "[2021-07-19 15:44:52] INFO (nni.compression.pytorch.compressor/MainThread) Mask dict saved to mask_naive_mnist_l1filter.pth\n"
     ]
    }
   ],
   "source": [
    "# export the sparsified model state to './pruned_naive_mnist_l1filter.pth'.\n",
    "# export the mask to './mask_naive_mnist_l1filter.pth'.\n",
    "\n",
    "pruner.export_model(model_path='pruned_naive_mnist_l1filter.pth', mask_path='mask_naive_mnist_l1filter.pth')"
   ]
  },
  {
   "cell_type": "markdown",
   "id": "9d79b6d4",
   "metadata": {},
   "source": [
    "# 4. Speed Up"
   ]
  },
  {
   "cell_type": "code",
   "execution_count": 15,
   "id": "4dbdadaf",
   "metadata": {},
   "outputs": [
    {
     "name": "stdout",
     "output_type": "stream",
     "text": [
      "NaiveModel(\n",
      "  (conv1): Conv2d(1, 20, kernel_size=(5, 5), stride=(1, 1))\n",
      "  (conv2): Conv2d(20, 50, kernel_size=(5, 5), stride=(1, 1))\n",
      "  (fc1): Linear(in_features=800, out_features=500, bias=True)\n",
      "  (fc2): Linear(in_features=500, out_features=10, bias=True)\n",
      "  (relu1): ReLU6()\n",
      "  (relu2): ReLU6()\n",
      "  (relu3): ReLU6()\n",
      "  (max_pool1): MaxPool2d(kernel_size=2, stride=2, padding=0, dilation=1, ceil_mode=False)\n",
      "  (max_pool2): MaxPool2d(kernel_size=2, stride=2, padding=0, dilation=1, ceil_mode=False)\n",
      ")\n"
     ]
    }
   ],
   "source": [
    "# If you use a wrapped model, don't forget to unwrap it.\n",
    "\n",
    "pruner._unwrap_model()\n",
    "\n",
    "# the model has been unwrapped.\n",
    "\n",
    "print(model)"
   ]
  },
  {
   "cell_type": "code",
   "execution_count": 16,
   "id": "b2de879c",
   "metadata": {},
   "outputs": [
    {
     "name": "stderr",
     "output_type": "stream",
     "text": [
      "<ipython-input-1-0f2a9eb92f42>:22: TracerWarning: Converting a tensor to a Python index might cause the trace to be incorrect. We can't record the data flow of Python values, so this value will be treated as a constant in the future. This means that the trace might not generalize to other inputs!\n",
      "  x = x.view(-1, x.size()[1:].numel())\n"
     ]
    },
    {
     "name": "stdout",
     "output_type": "stream",
     "text": [
      "[2021-07-19 15:44:57] INFO (nni.compression.pytorch.speedup.compressor/MainThread) start to speed up the model\n",
      "[2021-07-19 15:44:57] INFO (FixMaskConflict/MainThread) {'conv1': 1, 'conv2': 1}\n"
     ]
    },
    {
     "name": "stdout",
     "output_type": "stream",
     "text": [
      "[2021-07-19 15:44:57] INFO (FixMaskConflict/MainThread) dim0 sparsity: 0.500000\n",
      "[2021-07-19 15:44:57] INFO (FixMaskConflict/MainThread) dim1 sparsity: 0.000000\n",
      "[2021-07-19 15:44:57] INFO (FixMaskConflict/MainThread) Dectected conv prune dim\" 0\n",
      "[2021-07-19 15:44:57] INFO (nni.compression.pytorch.speedup.compressor/MainThread) infer module masks...\n",
      "[2021-07-19 15:44:57] INFO (nni.compression.pytorch.speedup.compressor/MainThread) Update mask for conv1\n",
      "[2021-07-19 15:44:57] INFO (nni.compression.pytorch.speedup.compressor/MainThread) Update mask for relu1\n",
      "[2021-07-19 15:44:57] INFO (nni.compression.pytorch.speedup.compressor/MainThread) Update mask for max_pool1\n",
      "[2021-07-19 15:44:57] INFO (nni.compression.pytorch.speedup.compressor/MainThread) Update mask for conv2\n",
      "[2021-07-19 15:44:57] INFO (nni.compression.pytorch.speedup.compressor/MainThread) Update mask for relu2\n",
      "[2021-07-19 15:44:57] INFO (nni.compression.pytorch.speedup.compressor/MainThread) Update mask for max_pool2\n",
      "[2021-07-19 15:44:57] INFO (nni.compression.pytorch.speedup.compressor/MainThread) Update mask for .aten::view.9\n",
      "[2021-07-19 15:44:57] INFO (nni.compression.pytorch.speedup.jit_translate/MainThread) View Module output size: [-1, 800]\n",
      "[2021-07-19 15:44:57] INFO (nni.compression.pytorch.speedup.compressor/MainThread) Update mask for fc1\n",
      "[2021-07-19 15:44:57] INFO (nni.compression.pytorch.speedup.compressor/MainThread) Update mask for relu3\n",
      "[2021-07-19 15:44:57] INFO (nni.compression.pytorch.speedup.compressor/MainThread) Update mask for fc2\n",
      "[2021-07-19 15:44:57] INFO (nni.compression.pytorch.speedup.compressor/MainThread) Update mask for .aten::log_softmax.10\n",
      "[2021-07-19 15:44:57] ERROR (nni.compression.pytorch.speedup.jit_translate/MainThread) aten::log_softmax is not Supported! Please report an issue at https://github.com/microsoft/nni. Thanks~\n",
      "[2021-07-19 15:44:57] INFO (nni.compression.pytorch.speedup.compressor/MainThread) Update indirect sparsity for .aten::log_softmax.10\n",
      "[2021-07-19 15:44:57] WARNING (nni.compression.pytorch.speedup.compressor/MainThread) Note: .aten::log_softmax.10 does not have corresponding mask inference object\n",
      "[2021-07-19 15:44:57] INFO (nni.compression.pytorch.speedup.compressor/MainThread) Update indirect sparsity for fc2\n",
      "[2021-07-19 15:44:57] INFO (nni.compression.pytorch.speedup.compressor/MainThread) Update the indirect sparsity for the fc2\n"
     ]
    },
    {
     "name": "stdout",
     "output_type": "stream",
     "text": [
      "[2021-07-19 15:44:57] INFO (nni.compression.pytorch.speedup.compressor/MainThread) Update indirect sparsity for relu3\n",
      "[2021-07-19 15:44:57] INFO (nni.compression.pytorch.speedup.compressor/MainThread) Update the indirect sparsity for the relu3\n"
     ]
    },
    {
     "name": "stdout",
     "output_type": "stream",
     "text": [
      "[2021-07-19 15:44:57] INFO (nni.compression.pytorch.speedup.compressor/MainThread) Update indirect sparsity for fc1\n",
      "[2021-07-19 15:44:57] INFO (nni.compression.pytorch.speedup.compressor/MainThread) Update the indirect sparsity for the fc1\n",
      "[2021-07-19 15:44:57] INFO (nni.compression.pytorch.speedup.compressor/MainThread) Update indirect sparsity for .aten::view.9\n",
      "[2021-07-19 15:44:57] INFO (nni.compression.pytorch.speedup.compressor/MainThread) Update the indirect sparsity for the .aten::view.9\n",
      "[2021-07-19 15:44:57] INFO (nni.compression.pytorch.speedup.compressor/MainThread) Update indirect sparsity for max_pool2\n",
      "[2021-07-19 15:44:57] INFO (nni.compression.pytorch.speedup.compressor/MainThread) Update the indirect sparsity for the max_pool2\n",
      "[2021-07-19 15:44:57] INFO (nni.compression.pytorch.speedup.compressor/MainThread) Update indirect sparsity for relu2\n",
      "[2021-07-19 15:44:57] INFO (nni.compression.pytorch.speedup.compressor/MainThread) Update the indirect sparsity for the relu2\n",
      "[2021-07-19 15:44:57] INFO (nni.compression.pytorch.speedup.compressor/MainThread) Update indirect sparsity for conv2\n",
      "[2021-07-19 15:44:57] INFO (nni.compression.pytorch.speedup.compressor/MainThread) Update the indirect sparsity for the conv2\n",
      "[2021-07-19 15:44:57] INFO (nni.compression.pytorch.speedup.compressor/MainThread) Update indirect sparsity for max_pool1\n",
      "[2021-07-19 15:44:57] INFO (nni.compression.pytorch.speedup.compressor/MainThread) Update the indirect sparsity for the max_pool1\n",
      "[2021-07-19 15:44:57] INFO (nni.compression.pytorch.speedup.compressor/MainThread) Update indirect sparsity for relu1\n",
      "[2021-07-19 15:44:57] INFO (nni.compression.pytorch.speedup.compressor/MainThread) Update the indirect sparsity for the relu1\n",
      "[2021-07-19 15:44:57] INFO (nni.compression.pytorch.speedup.compressor/MainThread) Update indirect sparsity for conv1\n",
      "[2021-07-19 15:44:57] INFO (nni.compression.pytorch.speedup.compressor/MainThread) Update the indirect sparsity for the conv1\n",
      "[2021-07-19 15:44:57] INFO (nni.compression.pytorch.speedup.compressor/MainThread) resolve the mask conflict\n",
      "[2021-07-19 15:44:57] INFO (nni.compression.pytorch.speedup.compressor/MainThread) replace compressed modules...\n",
      "[2021-07-19 15:44:57] INFO (nni.compression.pytorch.speedup.compressor/MainThread) replace module (name: conv1, op_type: Conv2d)\n",
      "[2021-07-19 15:44:57] INFO (nni.compression.pytorch.speedup.compressor/MainThread) replace module (name: relu1, op_type: ReLU6)\n",
      "[2021-07-19 15:44:57] INFO (nni.compression.pytorch.speedup.compressor/MainThread) replace module (name: max_pool1, op_type: MaxPool2d)\n",
      "[2021-07-19 15:44:57] INFO (nni.compression.pytorch.speedup.compressor/MainThread) replace module (name: conv2, op_type: Conv2d)\n",
      "[2021-07-19 15:44:57] INFO (nni.compression.pytorch.speedup.compressor/MainThread) replace module (name: relu2, op_type: ReLU6)\n",
      "[2021-07-19 15:44:57] INFO (nni.compression.pytorch.speedup.compressor/MainThread) replace module (name: max_pool2, op_type: MaxPool2d)\n",
      "[2021-07-19 15:44:57] INFO (nni.compression.pytorch.speedup.compressor/MainThread) Warning: cannot replace (name: .aten::view.9, op_type: aten::view) which is func type\n",
      "[2021-07-19 15:44:57] INFO (nni.compression.pytorch.speedup.compressor/MainThread) replace module (name: fc1, op_type: Linear)\n",
      "[2021-07-19 15:44:57] INFO (nni.compression.pytorch.speedup.compress_modules/MainThread) replace linear with new in_features: 800, out_features: 500\n",
      "[2021-07-19 15:44:57] INFO (nni.compression.pytorch.speedup.compressor/MainThread) replace module (name: relu3, op_type: ReLU6)\n",
      "[2021-07-19 15:44:57] INFO (nni.compression.pytorch.speedup.compressor/MainThread) replace module (name: fc2, op_type: Linear)\n",
      "[2021-07-19 15:44:57] INFO (nni.compression.pytorch.speedup.compress_modules/MainThread) replace linear with new in_features: 500, out_features: 10\n",
      "[2021-07-19 15:44:57] INFO (nni.compression.pytorch.speedup.compressor/MainThread) Warning: cannot replace (name: .aten::log_softmax.10, op_type: aten::log_softmax) which is func type\n",
      "[2021-07-19 15:44:57] INFO (nni.compression.pytorch.speedup.compressor/MainThread) speedup done\n"
     ]
    }
   ],
   "source": [
    "from nni.compression.pytorch import ModelSpeedup\n",
    "\n",
    "m_speedup = ModelSpeedup(model, dummy_input=torch.rand(10, 1, 28, 28).to(device), masks_file='mask_naive_mnist_l1filter.pth')\n",
    "m_speedup.speedup_model()"
   ]
  },
  {
   "cell_type": "code",
   "execution_count": 17,
   "id": "130b2951",
   "metadata": {},
   "outputs": [
    {
     "name": "stdout",
     "output_type": "stream",
     "text": [
      "NaiveModel(\n",
      "  (conv1): Conv2d(1, 10, kernel_size=(5, 5), stride=(1, 1))\n",
      "  (conv2): Conv2d(10, 50, kernel_size=(5, 5), stride=(1, 1))\n",
      "  (fc1): Linear(in_features=800, out_features=500, bias=True)\n",
      "  (fc2): Linear(in_features=500, out_features=10, bias=True)\n",
      "  (relu1): ReLU6()\n",
      "  (relu2): ReLU6()\n",
      "  (relu3): ReLU6()\n",
      "  (max_pool1): MaxPool2d(kernel_size=2, stride=2, padding=0, dilation=1, ceil_mode=False)\n",
      "  (max_pool2): MaxPool2d(kernel_size=2, stride=2, padding=0, dilation=1, ceil_mode=False)\n",
      ")\n"
     ]
    }
   ],
   "source": [
    "# the `conv1` has been replace from `Conv2d(1, 20, kernel_size=(5, 5), stride=(1, 1))` to `Conv2d(1, 6, kernel_size=(5, 5), stride=(1, 1))`\n",
    "# and the following layer `conv2` has also changed because the input channel of `conv2` should aware the output channel of `conv1`.\n",
    "\n",
    "print(model)"
   ]
  },
  {
   "cell_type": "code",
   "execution_count": 18,
   "id": "73e4227a",
   "metadata": {},
   "outputs": [
    {
     "name": "stdout",
     "output_type": "stream",
     "text": [
      "Train Epoch: 0 [0/60000 (0%)]\tLoss: 0.349769\n",
      "Train Epoch: 0 [6400/60000 (11%)]\tLoss: 0.042060\n",
      "Train Epoch: 0 [12800/60000 (21%)]\tLoss: 0.052566\n",
      "Train Epoch: 0 [19200/60000 (32%)]\tLoss: 0.011052\n",
      "Train Epoch: 0 [25600/60000 (43%)]\tLoss: 0.006365\n",
      "Train Epoch: 0 [32000/60000 (53%)]\tLoss: 0.008099\n",
      "Train Epoch: 0 [38400/60000 (64%)]\tLoss: 0.024377\n",
      "Train Epoch: 0 [44800/60000 (75%)]\tLoss: 0.026260\n",
      "Train Epoch: 0 [51200/60000 (85%)]\tLoss: 0.038423\n",
      "Train Epoch: 0 [57600/60000 (96%)]\tLoss: 0.014146\n",
      "\n",
      "Test set: Average loss: 0.0244, Accuracy: 9914/10000 (99%)\n",
      "\n"
     ]
    }
   ],
   "source": [
    "# finetune the model to recover the accuracy.\n",
    "\n",
    "optimizer = torch.optim.SGD(model.parameters(), lr=0.01)\n",
    "\n",
    "for epoch in range(0, 1):\n",
    "    trainer(model, optimizer, criterion, epoch)\n",
    "    evaluator(model)"
   ]
  },
  {
   "cell_type": "markdown",
   "id": "ea513df7",
   "metadata": {},
   "source": [
    "# 5. Prepare config_list for quantization"
   ]
  },
  {
   "cell_type": "code",
   "execution_count": 19,
   "id": "dc0dde77",
   "metadata": {},
   "outputs": [],
   "source": [
    "config_list = [{\n",
    "    'quant_types': ['weight'],\n",
    "    'quant_bits': {'weight': 8},\n",
    "    'op_names': ['conv1', 'conv2']\n",
    "}]"
   ]
  },
  {
   "cell_type": "markdown",
   "id": "48f4aba2",
   "metadata": {},
   "source": [
    "# 6. Choose a quantizer and quantizing"
   ]
  },
  {
   "cell_type": "code",
   "execution_count": 20,
   "id": "43d9deb4",
   "metadata": {},
   "outputs": [
    {
     "data": {
      "text/plain": [
       "NaiveModel(\n",
       "  (conv1): QuantizerModuleWrapper(\n",
       "    (module): Conv2d(1, 10, kernel_size=(5, 5), stride=(1, 1))\n",
       "  )\n",
       "  (conv2): QuantizerModuleWrapper(\n",
       "    (module): Conv2d(10, 50, kernel_size=(5, 5), stride=(1, 1))\n",
       "  )\n",
       "  (fc1): Linear(in_features=800, out_features=500, bias=True)\n",
       "  (fc2): Linear(in_features=500, out_features=10, bias=True)\n",
       "  (relu1): ReLU6()\n",
       "  (relu2): ReLU6()\n",
       "  (relu3): ReLU6()\n",
       "  (max_pool1): MaxPool2d(kernel_size=2, stride=2, padding=0, dilation=1, ceil_mode=False)\n",
       "  (max_pool2): MaxPool2d(kernel_size=2, stride=2, padding=0, dilation=1, ceil_mode=False)\n",
       ")"
      ]
     },
     "execution_count": 20,
     "metadata": {},
     "output_type": "execute_result"
    }
   ],
   "source": [
    "from nni.algorithms.compression.pytorch.quantization import DoReFaQuantizer\n",
    "\n",
    "quantizer = DoReFaQuantizer(model, config_list)\n",
    "quantizer.compress()"
   ]
  },
  {
   "cell_type": "code",
   "execution_count": 21,
   "id": "7a44c431",
   "metadata": {},
   "outputs": [
    {
     "name": "stdout",
     "output_type": "stream",
     "text": [
      "Train Epoch: 0 [0/60000 (0%)]\tLoss: 0.042607\n",
      "Train Epoch: 0 [6400/60000 (11%)]\tLoss: 0.135531\n",
      "Train Epoch: 0 [12800/60000 (21%)]\tLoss: 0.049159\n",
      "Train Epoch: 0 [19200/60000 (32%)]\tLoss: 0.000628\n",
      "Train Epoch: 0 [25600/60000 (43%)]\tLoss: 0.010268\n",
      "Train Epoch: 0 [32000/60000 (53%)]\tLoss: 0.040661\n",
      "Train Epoch: 0 [38400/60000 (64%)]\tLoss: 0.001791\n",
      "Train Epoch: 0 [44800/60000 (75%)]\tLoss: 0.075061\n",
      "Train Epoch: 0 [51200/60000 (85%)]\tLoss: 0.024104\n",
      "Train Epoch: 0 [57600/60000 (96%)]\tLoss: 0.075111\n",
      "\n",
      "Test set: Average loss: 0.0534, Accuracy: 9897/10000 (99%)\n",
      "\n"
     ]
    }
   ],
   "source": [
    "# finetune the model for calibration.\n",
    "\n",
    "for epoch in range(0, 1):\n",
    "    trainer(model, optimizer, criterion, epoch)\n",
    "    evaluator(model)"
   ]
  },
  {
   "cell_type": "code",
   "execution_count": 22,
   "id": "73d86923",
   "metadata": {},
   "outputs": [
    {
     "name": "stdout",
     "output_type": "stream",
     "text": [
      "[2021-07-19 15:45:49] INFO (nni.compression.pytorch.compressor/MainThread) Model state_dict saved to quantized_naive_mnist_l1filter.pth\n",
      "[2021-07-19 15:45:49] INFO (nni.compression.pytorch.compressor/MainThread) Mask dict saved to calibration_naive_mnist_l1filter.pth\n"
     ]
    },
    {
     "data": {
      "text/plain": [
       "{'conv1': {'weight_bit': 8}, 'conv2': {'weight_bit': 8}}"
      ]
     },
     "execution_count": 22,
     "metadata": {},
     "output_type": "execute_result"
    }
   ],
   "source": [
    "# export the sparsified model state to './quantized_naive_mnist_l1filter.pth'.\n",
    "# export the calibration config to './calibration_naive_mnist_l1filter.pth'.\n",
    "\n",
    "quantizer.export_model(model_path='quantized_naive_mnist_l1filter.pth', calibration_path='calibration_naive_mnist_l1filter.pth')"
   ]
  },
  {
   "cell_type": "markdown",
   "id": "91112508",
   "metadata": {},
   "source": [
    "# 7. Speed Up"
   ]
  },
  {
   "cell_type": "code",
   "execution_count": null,
   "id": "210713f3",
   "metadata": {},
   "outputs": [],
   "source": [
    "# speed up with tensorRT\n",
    "\n",
    "engine = ModelSpeedupTensorRT(model, (32, 1, 28, 28), config=calibration_config, batchsize=32)\n",
    "engine.compress()"
   ]
  }
 ],
 "metadata": {
  "kernelspec": {
   "display_name": "Python 3",
   "language": "python",
   "name": "python3"
  },
  "language_info": {
   "codemirror_mode": {
    "name": "ipython",
    "version": 3
   },
   "file_extension": ".py",
   "mimetype": "text/x-python",
   "name": "python",
   "nbconvert_exporter": "python",
   "pygments_lexer": "ipython3",
   "version": "3.8.8"
  }
 },
 "nbformat": 4,
 "nbformat_minor": 5
}
