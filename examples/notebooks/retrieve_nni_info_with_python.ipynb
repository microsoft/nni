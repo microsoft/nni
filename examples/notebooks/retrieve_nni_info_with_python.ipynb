{
 "cells": [
  {
   "cell_type": "code",
   "execution_count": 1,
   "metadata": {},
   "outputs": [],
   "source": [
    "import nnicli as nc\n",
    "import json\n",
    "import seaborn as sns\n",
    "import matplotlib.pyplot as plt\n",
    "sns.set(style=\"whitegrid\")"
   ]
  },
  {
   "cell_type": "code",
   "execution_count": 10,
   "metadata": {},
   "outputs": [
    {
     "name": "stdout",
     "output_type": "stream",
     "text": [
      "INFO: expand searchSpacePath: search_space.json to /mnt/d/Repos/nni/examples/trials/mnist/search_space.json\n",
      "INFO: expand codeDir: . to /mnt/d/Repos/nni/examples/trials/mnist/.\n",
      "INFO: Starting restful server...\n",
      "INFO: Successfully started Restful server!\n",
      "INFO: Setting local config...\n",
      "INFO: Successfully set local config!\n",
      "INFO: Starting experiment...\n",
      "INFO: Successfully started experiment!\n",
      "-----------------------------------------------------------------------\n",
      "The experiment id is SVDxgMhp\n",
      "The Web UI urls are: http://10.0.75.1:8080   http://127.0.0.1:8080   http://192.168.113.241:8080   http://10.172.121.40:8080\n",
      "-----------------------------------------------------------------------\n",
      "\n",
      "You can use these commands to get more information about the experiment\n",
      "-----------------------------------------------------------------------\n",
      "commands                       description\n",
      "1. nnictl experiment show        show the information of experiments\n",
      "2. nnictl trial ls               list all of trial jobs\n",
      "3. nnictl top                    monitor the status of running experiments\n",
      "4. nnictl log stderr             show stderr log content\n",
      "5. nnictl log stdout             show stdout log content\n",
      "6. nnictl stop                   stop an experiment\n",
      "7. nnictl trial kill             kill a trial job by id\n",
      "8. nnictl --help                 get help information about nnictl\n",
      "-----------------------------------------------------------------------\n",
      "\n"
     ]
    }
   ],
   "source": [
    "nc.start_nni(config_file='/mnt/d/Repos/nni/examples/trials/mnist/config.yml')"
   ]
  },
  {
   "cell_type": "code",
   "execution_count": 11,
   "metadata": {},
   "outputs": [],
   "source": [
    "nc.set_endpoint('http://127.0.0.1:8080')"
   ]
  },
  {
   "cell_type": "code",
   "execution_count": 12,
   "metadata": {},
   "outputs": [],
   "source": [
    "def show_json(res):\n",
    "    print(json.dumps(res, indent=4))"
   ]
  },
  {
   "cell_type": "code",
   "execution_count": 17,
   "metadata": {},
   "outputs": [
    {
     "name": "stdout",
     "output_type": "stream",
     "text": [
      "{\n",
      "    \"errors\": [],\n",
      "    \"status\": \"DONE\"\n",
      "}\n"
     ]
    }
   ],
   "source": [
    "show_json(nc.get_experiment_status())"
   ]
  },
  {
   "cell_type": "code",
   "execution_count": 18,
   "metadata": {},
   "outputs": [
    {
     "name": "stdout",
     "output_type": "stream",
     "text": [
      "[\n",
      "    {\n",
      "        \"trialJobNumber\": 10,\n",
      "        \"trialJobStatus\": \"SUCCEEDED\"\n",
      "    }\n",
      "]\n"
     ]
    }
   ],
   "source": [
    "show_json(nc.get_job_statistics())"
   ]
  },
  {
   "cell_type": "code",
   "execution_count": 7,
   "metadata": {},
   "outputs": [
    {
     "name": "stdout",
     "output_type": "stream",
     "text": [
      "{\n",
      "    \"revision\": 5,\n",
      "    \"logDir\": \"/home/chicm/nni/experiments/ECU8oTpO\",\n",
      "    \"params\": {\n",
      "        \"authorName\": \"default\",\n",
      "        \"searchSpace\": \"{\\\"learning_rate\\\": {\\\"_type\\\": \\\"choice\\\", \\\"_value\\\": [0.0001, 0.001, 0.01, 0.1]}, \\\"dropout_rate\\\": {\\\"_type\\\": \\\"uniform\\\", \\\"_value\\\": [0.5, 0.9]}, \\\"hidden_size\\\": {\\\"_type\\\": \\\"choice\\\", \\\"_value\\\": [124, 512, 1024]}, \\\"conv_size\\\": {\\\"_type\\\": \\\"choice\\\", \\\"_value\\\": [2, 3, 5, 7]}, \\\"batch_size\\\": {\\\"_type\\\": \\\"choice\\\", \\\"_value\\\": [1, 4, 8, 16, 32]}}\",\n",
      "        \"maxExecDuration\": 3600,\n",
      "        \"maxTrialNum\": 10,\n",
      "        \"trainingServicePlatform\": \"local\",\n",
      "        \"experimentName\": \"example_mnist\",\n",
      "        \"versionCheck\": true,\n",
      "        \"clusterMetaData\": [\n",
      "            {\n",
      "                \"value\": \"/mnt/d/Repos/nni/examples/trials/mnist/.\",\n",
      "                \"key\": \"codeDir\"\n",
      "            },\n",
      "            {\n",
      "                \"value\": \"python3 mnist.py\",\n",
      "                \"key\": \"command\"\n",
      "            }\n",
      "        ],\n",
      "        \"tuner\": {\n",
      "            \"classArgs\": {\n",
      "                \"optimize_mode\": \"maximize\"\n",
      "            },\n",
      "            \"builtinTunerName\": \"TPE\",\n",
      "            \"className\": \"TPE\",\n",
      "            \"checkpointDir\": \"/home/chicm/nni/experiments/ECU8oTpO/checkpoint\"\n",
      "        },\n",
      "        \"trialConcurrency\": 1\n",
      "    },\n",
      "    \"startTime\": 1563276222976,\n",
      "    \"execDuration\": 32,\n",
      "    \"id\": \"ECU8oTpO\",\n",
      "    \"maxSequenceId\": 0\n",
      "}\n"
     ]
    }
   ],
   "source": [
    "show_json(nc.get_experiment_profile())"
   ]
  },
  {
   "cell_type": "code",
   "execution_count": 19,
   "metadata": {},
   "outputs": [
    {
     "name": "stdout",
     "output_type": "stream",
     "text": [
      "[\n",
      "    {\n",
      "        \"hyperParameters\": [\n",
      "            \"{\\\"parameters\\\":{\\\"dropout_rate\\\":0.593061873774057,\\\"batch_size\\\":8,\\\"conv_size\\\":3,\\\"learning_rate\\\":0.001,\\\"hidden_size\\\":124},\\\"parameter_source\\\":\\\"algorithm\\\",\\\"parameter_index\\\":0,\\\"parameter_id\\\":0}\"\n",
      "        ],\n",
      "        \"finalMetricData\": [\n",
      "            {\n",
      "                \"data\": \"0.9657999873161316\",\n",
      "                \"trialJobId\": \"vuOxt\",\n",
      "                \"type\": \"FINAL\",\n",
      "                \"sequence\": 0,\n",
      "                \"parameterId\": \"0\",\n",
      "                \"timestamp\": 1563276575673\n",
      "            }\n",
      "        ],\n",
      "        \"endTime\": 1563276576450,\n",
      "        \"sequenceId\": 0,\n",
      "        \"startTime\": 1563276337686,\n",
      "        \"id\": \"vuOxt\",\n",
      "        \"logPath\": \"file://localhost:/home/chicm/nni/experiments/SVDxgMhp/trials/vuOxt\",\n",
      "        \"status\": \"SUCCEEDED\"\n",
      "    },\n",
      "    {\n",
      "        \"hyperParameters\": [\n",
      "            \"{\\\"parameters\\\":{\\\"dropout_rate\\\":0.6247350958609632,\\\"batch_size\\\":8,\\\"conv_size\\\":3,\\\"learning_rate\\\":0.01,\\\"hidden_size\\\":1024},\\\"parameter_source\\\":\\\"algorithm\\\",\\\"parameter_index\\\":0,\\\"parameter_id\\\":1}\"\n",
      "        ],\n",
      "        \"finalMetricData\": [\n",
      "            {\n",
      "                \"data\": \"0.10320000350475311\",\n",
      "                \"trialJobId\": \"ALkgG\",\n",
      "                \"type\": \"FINAL\",\n",
      "                \"sequence\": 0,\n",
      "                \"parameterId\": \"1\",\n",
      "                \"timestamp\": 1563276809046\n",
      "            }\n",
      "        ],\n",
      "        \"endTime\": 1563276809808,\n",
      "        \"sequenceId\": 1,\n",
      "        \"startTime\": 1563276588098,\n",
      "        \"id\": \"ALkgG\",\n",
      "        \"logPath\": \"file://localhost:/home/chicm/nni/experiments/SVDxgMhp/trials/ALkgG\",\n",
      "        \"status\": \"SUCCEEDED\"\n",
      "    },\n",
      "    {\n",
      "        \"hyperParameters\": [\n",
      "            \"{\\\"parameters\\\":{\\\"dropout_rate\\\":0.6579157683964341,\\\"batch_size\\\":4,\\\"conv_size\\\":7,\\\"learning_rate\\\":0.001,\\\"hidden_size\\\":124},\\\"parameter_source\\\":\\\"algorithm\\\",\\\"parameter_index\\\":0,\\\"parameter_id\\\":2}\"\n",
      "        ],\n",
      "        \"finalMetricData\": [\n",
      "            {\n",
      "                \"data\": \"0.9580000042915344\",\n",
      "                \"trialJobId\": \"OH4AS\",\n",
      "                \"type\": \"FINAL\",\n",
      "                \"sequence\": 0,\n",
      "                \"parameterId\": \"2\",\n",
      "                \"timestamp\": 1563277161932\n",
      "            }\n",
      "        ],\n",
      "        \"endTime\": 1563277162678,\n",
      "        \"sequenceId\": 2,\n",
      "        \"startTime\": 1563276823465,\n",
      "        \"id\": \"OH4AS\",\n",
      "        \"logPath\": \"file://localhost:/home/chicm/nni/experiments/SVDxgMhp/trials/OH4AS\",\n",
      "        \"status\": \"SUCCEEDED\"\n",
      "    },\n",
      "    {\n",
      "        \"hyperParameters\": [\n",
      "            \"{\\\"parameters\\\":{\\\"dropout_rate\\\":0.8778852343107003,\\\"batch_size\\\":16,\\\"conv_size\\\":5,\\\"learning_rate\\\":0.01,\\\"hidden_size\\\":124},\\\"parameter_source\\\":\\\"algorithm\\\",\\\"parameter_index\\\":0,\\\"parameter_id\\\":3}\"\n",
      "        ],\n",
      "        \"finalMetricData\": [\n",
      "            {\n",
      "                \"data\": \"0.9398000240325928\",\n",
      "                \"trialJobId\": \"QEIII\",\n",
      "                \"type\": \"FINAL\",\n",
      "                \"sequence\": 0,\n",
      "                \"parameterId\": \"3\",\n",
      "                \"timestamp\": 1563277474762\n",
      "            }\n",
      "        ],\n",
      "        \"endTime\": 1563277475473,\n",
      "        \"sequenceId\": 3,\n",
      "        \"startTime\": 1563277168850,\n",
      "        \"id\": \"QEIII\",\n",
      "        \"logPath\": \"file://localhost:/home/chicm/nni/experiments/SVDxgMhp/trials/QEIII\",\n",
      "        \"status\": \"SUCCEEDED\"\n",
      "    },\n",
      "    {\n",
      "        \"hyperParameters\": [\n",
      "            \"{\\\"parameters\\\":{\\\"dropout_rate\\\":0.851141483424922,\\\"batch_size\\\":1,\\\"conv_size\\\":3,\\\"learning_rate\\\":0.0001,\\\"hidden_size\\\":512},\\\"parameter_source\\\":\\\"algorithm\\\",\\\"parameter_index\\\":0,\\\"parameter_id\\\":4}\"\n",
      "        ],\n",
      "        \"finalMetricData\": [\n",
      "            {\n",
      "                \"data\": \"0.7278000116348267\",\n",
      "                \"trialJobId\": \"D0q6w\",\n",
      "                \"type\": \"FINAL\",\n",
      "                \"sequence\": 0,\n",
      "                \"parameterId\": \"4\",\n",
      "                \"timestamp\": 1563277660149\n",
      "            }\n",
      "        ],\n",
      "        \"endTime\": 1563277660882,\n",
      "        \"sequenceId\": 4,\n",
      "        \"startTime\": 1563277484320,\n",
      "        \"id\": \"D0q6w\",\n",
      "        \"logPath\": \"file://localhost:/home/chicm/nni/experiments/SVDxgMhp/trials/D0q6w\",\n",
      "        \"status\": \"SUCCEEDED\"\n",
      "    },\n",
      "    {\n",
      "        \"hyperParameters\": [\n",
      "            \"{\\\"parameters\\\":{\\\"dropout_rate\\\":0.7406056576331742,\\\"batch_size\\\":16,\\\"conv_size\\\":3,\\\"learning_rate\\\":0.1,\\\"hidden_size\\\":512},\\\"parameter_source\\\":\\\"algorithm\\\",\\\"parameter_index\\\":0,\\\"parameter_id\\\":5}\"\n",
      "        ],\n",
      "        \"finalMetricData\": [\n",
      "            {\n",
      "                \"data\": \"0.09799999743700027\",\n",
      "                \"trialJobId\": \"tzEbl\",\n",
      "                \"type\": \"FINAL\",\n",
      "                \"sequence\": 0,\n",
      "                \"parameterId\": \"5\",\n",
      "                \"timestamp\": 1563277876864\n",
      "            }\n",
      "        ],\n",
      "        \"endTime\": 1563277877535,\n",
      "        \"sequenceId\": 5,\n",
      "        \"startTime\": 1563277674607,\n",
      "        \"id\": \"tzEbl\",\n",
      "        \"logPath\": \"file://localhost:/home/chicm/nni/experiments/SVDxgMhp/trials/tzEbl\",\n",
      "        \"status\": \"SUCCEEDED\"\n",
      "    },\n",
      "    {\n",
      "        \"hyperParameters\": [\n",
      "            \"{\\\"parameters\\\":{\\\"dropout_rate\\\":0.6148538603508947,\\\"batch_size\\\":4,\\\"conv_size\\\":3,\\\"learning_rate\\\":0.01,\\\"hidden_size\\\":124},\\\"parameter_source\\\":\\\"algorithm\\\",\\\"parameter_index\\\":0,\\\"parameter_id\\\":6}\"\n",
      "        ],\n",
      "        \"finalMetricData\": [\n",
      "            {\n",
      "                \"data\": \"0.09740000218153\",\n",
      "                \"trialJobId\": \"JPRhN\",\n",
      "                \"type\": \"FINAL\",\n",
      "                \"sequence\": 0,\n",
      "                \"parameterId\": \"6\",\n",
      "                \"timestamp\": 1563278041342\n",
      "            }\n",
      "        ],\n",
      "        \"endTime\": 1563278042031,\n",
      "        \"sequenceId\": 6,\n",
      "        \"startTime\": 1563277890023,\n",
      "        \"id\": \"JPRhN\",\n",
      "        \"logPath\": \"file://localhost:/home/chicm/nni/experiments/SVDxgMhp/trials/JPRhN\",\n",
      "        \"status\": \"SUCCEEDED\"\n",
      "    },\n",
      "    {\n",
      "        \"hyperParameters\": [\n",
      "            \"{\\\"parameters\\\":{\\\"dropout_rate\\\":0.5686912490517745,\\\"batch_size\\\":32,\\\"conv_size\\\":2,\\\"learning_rate\\\":0.01,\\\"hidden_size\\\":124},\\\"parameter_source\\\":\\\"algorithm\\\",\\\"parameter_index\\\":0,\\\"parameter_id\\\":7}\"\n",
      "        ],\n",
      "        \"finalMetricData\": [\n",
      "            {\n",
      "                \"data\": \"0.9602000117301941\",\n",
      "                \"trialJobId\": \"qgvl5\",\n",
      "                \"type\": \"FINAL\",\n",
      "                \"sequence\": 0,\n",
      "                \"parameterId\": \"7\",\n",
      "                \"timestamp\": 1563278214268\n",
      "            }\n",
      "        ],\n",
      "        \"endTime\": 1563278214937,\n",
      "        \"sequenceId\": 7,\n",
      "        \"startTime\": 1563278050265,\n",
      "        \"id\": \"qgvl5\",\n",
      "        \"logPath\": \"file://localhost:/home/chicm/nni/experiments/SVDxgMhp/trials/qgvl5\",\n",
      "        \"status\": \"SUCCEEDED\"\n",
      "    },\n",
      "    {\n",
      "        \"hyperParameters\": [\n",
      "            \"{\\\"parameters\\\":{\\\"dropout_rate\\\":0.8216070978017449,\\\"batch_size\\\":32,\\\"conv_size\\\":5,\\\"learning_rate\\\":0.01,\\\"hidden_size\\\":512},\\\"parameter_source\\\":\\\"algorithm\\\",\\\"parameter_index\\\":0,\\\"parameter_id\\\":8}\"\n",
      "        ],\n",
      "        \"finalMetricData\": [\n",
      "            {\n",
      "                \"data\": \"0.9340999722480774\",\n",
      "                \"trialJobId\": \"ljJRA\",\n",
      "                \"type\": \"FINAL\",\n",
      "                \"sequence\": 0,\n",
      "                \"parameterId\": \"8\",\n",
      "                \"timestamp\": 1563278592863\n",
      "            }\n",
      "        ],\n",
      "        \"endTime\": 1563278593570,\n",
      "        \"sequenceId\": 8,\n",
      "        \"startTime\": 1563278225510,\n",
      "        \"id\": \"ljJRA\",\n",
      "        \"logPath\": \"file://localhost:/home/chicm/nni/experiments/SVDxgMhp/trials/ljJRA\",\n",
      "        \"status\": \"SUCCEEDED\"\n",
      "    },\n",
      "    {\n",
      "        \"hyperParameters\": [\n",
      "            \"{\\\"parameters\\\":{\\\"dropout_rate\\\":0.6385459839212764,\\\"batch_size\\\":16,\\\"conv_size\\\":5,\\\"learning_rate\\\":0.001,\\\"hidden_size\\\":512},\\\"parameter_source\\\":\\\"algorithm\\\",\\\"parameter_index\\\":0,\\\"parameter_id\\\":9}\"\n",
      "        ],\n",
      "        \"finalMetricData\": [\n",
      "            {\n",
      "                \"data\": \"0.9811000227928162\",\n",
      "                \"trialJobId\": \"eiXWN\",\n",
      "                \"type\": \"FINAL\",\n",
      "                \"sequence\": 0,\n",
      "                \"parameterId\": \"9\",\n",
      "                \"timestamp\": 1563278946019\n",
      "            }\n",
      "        ],\n",
      "        \"endTime\": 1563278946757,\n",
      "        \"sequenceId\": 9,\n",
      "        \"startTime\": 1563278605988,\n",
      "        \"id\": \"eiXWN\",\n",
      "        \"logPath\": \"file://localhost:/home/chicm/nni/experiments/SVDxgMhp/trials/eiXWN\",\n",
      "        \"status\": \"SUCCEEDED\"\n",
      "    }\n",
      "]\n"
     ]
    }
   ],
   "source": [
    "show_json(nc.list_trial_jobs())"
   ]
  },
  {
   "cell_type": "code",
   "execution_count": 20,
   "metadata": {},
   "outputs": [
    {
     "data": {
      "image/png": "[encoded data removed]",
      "text/plain": [
       "<Figure size 1080x432 with 1 Axes>"
      ]
     },
     "metadata": {},
     "output_type": "display_data"
    }
   ],
   "source": [
    "jobs = nc.list_trial_jobs()\n",
    "job_ids = [x['id'] for x in jobs]\n",
    "final_metrics = [float(x['finalMetricData'][0]['data']) for x in jobs]\n",
    "hp = [json.loads(x['hyperParameters'][0])['parameters'] for x in jobs]\n",
    "\n",
    "data = {'job id': job_ids, 'final metrics': final_metrics}\n",
    "sns.set(rc={'figure.figsize':(15, 6)})\n",
    "\n",
    "plt.title('Trial job final results')\n",
    "ax = sns.barplot(x='job id', y='final metrics', data=data) \n",
    "\n",
    "for i,p in enumerate(ax.patches):\n",
    "    ax.annotate('{:.4f}'.format(p.get_height()), (p.get_x() + p.get_width() / 2., p.get_height()),\n",
    "                 ha='center', va='center', fontsize=11, color='black', rotation=0, xytext=(0, 5),\n",
    "                 textcoords='offset points') "
   ]
  },
  {
   "cell_type": "code",
   "execution_count": 21,
   "metadata": {},
   "outputs": [],
   "source": [
    "def show_intermediete_results(trial_job_id):\n",
    "    plt.title('Intermediate results for job ' + trial_job_id)\n",
    "    sns.set(rc={'figure.figsize':(15, 6)})\n",
    "    res = nc.get_job_metrics(trial_job_id)\n",
    "    metrics = [float(x['data']) for x in res if x['type']=='PERIODICAL']\n",
    "    seq = [int(x['sequence']) for x in res if x['type']=='PERIODICAL']\n",
    "    sns.barplot(x='sequence', y='intermediate results', data={'sequence': seq, 'intermediate results': metrics})    "
   ]
  },
  {
   "cell_type": "code",
   "execution_count": 23,
   "metadata": {},
   "outputs": [
    {
     "data": {
      "image/png": "[encoded data removed]",
      "text/plain": [
       "<Figure size 1080x432 with 1 Axes>"
      ]
     },
     "metadata": {},
     "output_type": "display_data"
    }
   ],
   "source": [
    "show_intermediete_results('eiXWN')"
   ]
  },
  {
   "cell_type": "code",
   "execution_count": 24,
   "metadata": {},
   "outputs": [
    {
     "name": "stdout",
     "output_type": "stream",
     "text": [
      "INFO: Stoping experiment SVDxgMhp\n",
      "INFO: Stop experiment success.\n"
     ]
    }
   ],
   "source": [
    "nc.stop_nni()"
   ]
  },
  {
   "cell_type": "code",
   "execution_count": null,
   "metadata": {},
   "outputs": [],
   "source": []
  }
 ],
 "metadata": {
  "kernelspec": {
   "display_name": "Python 3",
   "language": "python",
   "name": "python3"
  },
  "language_info": {
   "codemirror_mode": {
    "name": "ipython",
    "version": 3
   },
   "file_extension": ".py",
   "mimetype": "text/x-python",
   "name": "python",
   "nbconvert_exporter": "python",
   "pygments_lexer": "ipython3",
   "version": "3.5.2"
  }
 },
 "nbformat": 4,
 "nbformat_minor": 2
}
