{
 "cells": [
  {
   "cell_type": "code",
   "execution_count": 131,
   "metadata": {},
   "outputs": [],
   "source": [
    "import nnicli as nc\n",
    "import json\n",
    "import seaborn as sns\n",
    "import matplotlib.pyplot as plt\n",
    "sns.set(style=\"whitegrid\")"
   ]
  },
  {
   "cell_type": "code",
   "execution_count": 44,
   "metadata": {},
   "outputs": [
    {
     "data": {
      "text/plain": [
       "['INFO: expand searchSpacePath: search_space.json to /mnt/d/Repos/nni/examples/trials/mnist/search_space.json ',\n",
       " 'INFO: expand codeDir: . to /mnt/d/Repos/nni/examples/trials/mnist/. ',\n",
       " 'INFO: Starting restful server...',\n",
       " 'INFO: Successfully started Restful server!',\n",
       " 'INFO: Setting local config...',\n",
       " 'INFO: Successfully set local config!',\n",
       " 'INFO: Starting experiment...',\n",
       " 'INFO: Successfully started experiment!',\n",
       " '-----------------------------------------------------------------------',\n",
       " 'The experiment id is c7gs4Ael',\n",
       " 'The Web UI urls are: http://10.0.75.1:8080   http://172.17.115.97:8080   http://10.172.121.40:8080   http://127.0.0.1:8080',\n",
       " '-----------------------------------------------------------------------',\n",
       " '',\n",
       " 'You can use these commands to get more information about the experiment',\n",
       " '-----------------------------------------------------------------------',\n",
       " '         commands                       description',\n",
       " '1. nnictl experiment show        show the information of experiments',\n",
       " '2. nnictl trial ls               list all of trial jobs',\n",
       " '3. nnictl top                    monitor the status of running experiments',\n",
       " '4. nnictl log stderr             show stderr log content',\n",
       " '5. nnictl log stdout             show stdout log content',\n",
       " '6. nnictl stop                   stop an experiment',\n",
       " '7. nnictl trial kill             kill a trial job by id',\n",
       " '8. nnictl --help                 get help information about nnictl',\n",
       " '-----------------------------------------------------------------------',\n",
       " '']"
      ]
     },
     "execution_count": 44,
     "metadata": {},
     "output_type": "execute_result"
    }
   ],
   "source": [
    "%system nnictl create --config ../trials/mnist/config.yml"
   ]
  },
  {
   "cell_type": "code",
   "execution_count": null,
   "metadata": {},
   "outputs": [],
   "source": [
    "nc.set_endpoint('http://127.0.0.1:8080')"
   ]
  },
  {
   "cell_type": "code",
   "execution_count": 52,
   "metadata": {},
   "outputs": [],
   "source": [
    "def show_json(res):\n",
    "    print(json.dumps(res, indent=4))"
   ]
  },
  {
   "cell_type": "code",
   "execution_count": 53,
   "metadata": {},
   "outputs": [
    {
     "name": "stdout",
     "output_type": "stream",
     "text": [
      "{\n",
      "    \"errors\": [],\n",
      "    \"status\": \"RUNNING\"\n",
      "}\n"
     ]
    }
   ],
   "source": [
    "show_json(nc.get_experiment_status())"
   ]
  },
  {
   "cell_type": "code",
   "execution_count": 56,
   "metadata": {},
   "outputs": [
    {
     "name": "stdout",
     "output_type": "stream",
     "text": [
      "[\n",
      "    {\n",
      "        \"trialJobStatus\": \"SUCCEEDED\",\n",
      "        \"trialJobNumber\": 1\n",
      "    },\n",
      "    {\n",
      "        \"trialJobStatus\": \"RUNNING\",\n",
      "        \"trialJobNumber\": 1\n",
      "    }\n",
      "]\n"
     ]
    }
   ],
   "source": [
    "show_json(nc.get_job_statistics())"
   ]
  },
  {
   "cell_type": "code",
   "execution_count": 54,
   "metadata": {},
   "outputs": [
    {
     "name": "stdout",
     "output_type": "stream",
     "text": [
      "{\n",
      "    \"execDuration\": 315,\n",
      "    \"id\": \"c7gs4Ael\",\n",
      "    \"startTime\": 1562909082474,\n",
      "    \"params\": {\n",
      "        \"experimentName\": \"example_mnist\",\n",
      "        \"authorName\": \"default\",\n",
      "        \"trainingServicePlatform\": \"local\",\n",
      "        \"maxExecDuration\": 3600,\n",
      "        \"trialConcurrency\": 1,\n",
      "        \"maxTrialNum\": 10,\n",
      "        \"tuner\": {\n",
      "            \"className\": \"TPE\",\n",
      "            \"builtinTunerName\": \"TPE\",\n",
      "            \"checkpointDir\": \"/home/chicm/nni/experiments/c7gs4Ael/checkpoint\",\n",
      "            \"classArgs\": {\n",
      "                \"optimize_mode\": \"maximize\"\n",
      "            }\n",
      "        },\n",
      "        \"clusterMetaData\": [\n",
      "            {\n",
      "                \"value\": \"/mnt/d/Repos/nni/examples/trials/mnist/.\",\n",
      "                \"key\": \"codeDir\"\n",
      "            },\n",
      "            {\n",
      "                \"value\": \"python3 mnist.py\",\n",
      "                \"key\": \"command\"\n",
      "            }\n",
      "        ],\n",
      "        \"versionCheck\": true,\n",
      "        \"searchSpace\": \"{\\\"learning_rate\\\": {\\\"_type\\\": \\\"choice\\\", \\\"_value\\\": [0.0001, 0.001, 0.01, 0.1]}, \\\"dropout_rate\\\": {\\\"_type\\\": \\\"uniform\\\", \\\"_value\\\": [0.5, 0.9]}, \\\"hidden_size\\\": {\\\"_type\\\": \\\"choice\\\", \\\"_value\\\": [124, 512, 1024]}, \\\"batch_size\\\": {\\\"_type\\\": \\\"choice\\\", \\\"_value\\\": [1, 4, 8, 16, 32]}, \\\"conv_size\\\": {\\\"_type\\\": \\\"choice\\\", \\\"_value\\\": [2, 3, 5, 7]}}\"\n",
      "    },\n",
      "    \"revision\": 34,\n",
      "    \"logDir\": \"/home/chicm/nni/experiments/c7gs4Ael\",\n",
      "    \"maxSequenceId\": 1\n",
      "}\n"
     ]
    }
   ],
   "source": [
    "show_json(nc.get_experiment_profile())"
   ]
  },
  {
   "cell_type": "code",
   "execution_count": 101,
   "metadata": {},
   "outputs": [
    {
     "name": "stdout",
     "output_type": "stream",
     "text": [
      "[\n",
      "    {\n",
      "        \"hyperParameters\": [\n",
      "            \"{\\\"parameter_id\\\":0,\\\"parameter_index\\\":0,\\\"parameters\\\":{\\\"dropout_rate\\\":0.5544661231226873,\\\"hidden_size\\\":512,\\\"learning_rate\\\":0.01,\\\"conv_size\\\":3,\\\"batch_size\\\":4},\\\"parameter_source\\\":\\\"algorithm\\\"}\"\n",
      "        ],\n",
      "        \"id\": \"RFnMS\",\n",
      "        \"status\": \"SUCCEEDED\",\n",
      "        \"sequenceId\": 0,\n",
      "        \"finalMetricData\": [\n",
      "            {\n",
      "                \"sequence\": 0,\n",
      "                \"trialJobId\": \"RFnMS\",\n",
      "                \"timestamp\": 1562909277124,\n",
      "                \"parameterId\": \"0\",\n",
      "                \"type\": \"FINAL\",\n",
      "                \"data\": \"0.10100000351667404\"\n",
      "            }\n",
      "        ],\n",
      "        \"logPath\": \"file://localhost:/home/chicm/nni/experiments/c7gs4Ael/trials/RFnMS\",\n",
      "        \"startTime\": 1562909092641,\n",
      "        \"endTime\": 1562909277928\n",
      "    },\n",
      "    {\n",
      "        \"hyperParameters\": [\n",
      "            \"{\\\"parameter_id\\\":1,\\\"parameter_index\\\":0,\\\"parameters\\\":{\\\"dropout_rate\\\":0.7572239616951948,\\\"hidden_size\\\":512,\\\"learning_rate\\\":0.001,\\\"conv_size\\\":7,\\\"batch_size\\\":32},\\\"parameter_source\\\":\\\"algorithm\\\"}\"\n",
      "        ],\n",
      "        \"id\": \"SnTpb\",\n",
      "        \"status\": \"SUCCEEDED\",\n",
      "        \"sequenceId\": 1,\n",
      "        \"finalMetricData\": [\n",
      "            {\n",
      "                \"sequence\": 0,\n",
      "                \"trialJobId\": \"SnTpb\",\n",
      "                \"timestamp\": 1562909763460,\n",
      "                \"parameterId\": \"1\",\n",
      "                \"type\": \"FINAL\",\n",
      "                \"data\": \"0.9825999736785889\"\n",
      "            }\n",
      "        ],\n",
      "        \"logPath\": \"file://localhost:/home/chicm/nni/experiments/c7gs4Ael/trials/SnTpb\",\n",
      "        \"startTime\": 1562909287968,\n",
      "        \"endTime\": 1562909764201\n",
      "    },\n",
      "    {\n",
      "        \"hyperParameters\": [\n",
      "            \"{\\\"parameter_id\\\":2,\\\"parameter_index\\\":0,\\\"parameters\\\":{\\\"dropout_rate\\\":0.7481282813145295,\\\"hidden_size\\\":1024,\\\"learning_rate\\\":0.001,\\\"conv_size\\\":5,\\\"batch_size\\\":1},\\\"parameter_source\\\":\\\"algorithm\\\"}\"\n",
      "        ],\n",
      "        \"id\": \"e411q\",\n",
      "        \"status\": \"SUCCEEDED\",\n",
      "        \"sequenceId\": 2,\n",
      "        \"finalMetricData\": [\n",
      "            {\n",
      "                \"sequence\": 0,\n",
      "                \"trialJobId\": \"e411q\",\n",
      "                \"timestamp\": 1562910090086,\n",
      "                \"parameterId\": \"2\",\n",
      "                \"type\": \"FINAL\",\n",
      "                \"data\": \"0.9312999844551086\"\n",
      "            }\n",
      "        ],\n",
      "        \"logPath\": \"file://localhost:/home/chicm/nni/experiments/c7gs4Ael/trials/e411q\",\n",
      "        \"startTime\": 1562909773644,\n",
      "        \"endTime\": 1562910090902\n",
      "    },\n",
      "    {\n",
      "        \"hyperParameters\": [\n",
      "            \"{\\\"parameter_id\\\":3,\\\"parameter_index\\\":0,\\\"parameters\\\":{\\\"dropout_rate\\\":0.7719407574772013,\\\"hidden_size\\\":124,\\\"learning_rate\\\":0.0001,\\\"conv_size\\\":2,\\\"batch_size\\\":16},\\\"parameter_source\\\":\\\"algorithm\\\"}\"\n",
      "        ],\n",
      "        \"id\": \"sKqt5\",\n",
      "        \"status\": \"SUCCEEDED\",\n",
      "        \"sequenceId\": 3,\n",
      "        \"finalMetricData\": [\n",
      "            {\n",
      "                \"sequence\": 0,\n",
      "                \"trialJobId\": \"sKqt5\",\n",
      "                \"timestamp\": 1562910235809,\n",
      "                \"parameterId\": \"3\",\n",
      "                \"type\": \"FINAL\",\n",
      "                \"data\": \"0.8478999733924866\"\n",
      "            }\n",
      "        ],\n",
      "        \"logPath\": \"file://localhost:/home/chicm/nni/experiments/c7gs4Ael/trials/sKqt5\",\n",
      "        \"startTime\": 1562910104087,\n",
      "        \"endTime\": 1562910236492\n",
      "    },\n",
      "    {\n",
      "        \"hyperParameters\": [\n",
      "            \"{\\\"parameter_id\\\":4,\\\"parameter_index\\\":0,\\\"parameters\\\":{\\\"dropout_rate\\\":0.8002665541953031,\\\"hidden_size\\\":124,\\\"learning_rate\\\":0.01,\\\"conv_size\\\":7,\\\"batch_size\\\":4},\\\"parameter_source\\\":\\\"algorithm\\\"}\"\n",
      "        ],\n",
      "        \"id\": \"TjUij\",\n",
      "        \"status\": \"SUCCEEDED\",\n",
      "        \"sequenceId\": 4,\n",
      "        \"finalMetricData\": [\n",
      "            {\n",
      "                \"sequence\": 0,\n",
      "                \"trialJobId\": \"TjUij\",\n",
      "                \"timestamp\": 1562910585964,\n",
      "                \"parameterId\": \"4\",\n",
      "                \"type\": \"FINAL\",\n",
      "                \"data\": \"0.8783000111579895\"\n",
      "            }\n",
      "        ],\n",
      "        \"logPath\": \"file://localhost:/home/chicm/nni/experiments/c7gs4Ael/trials/TjUij\",\n",
      "        \"startTime\": 1562910244281,\n",
      "        \"endTime\": 1562910586695\n",
      "    },\n",
      "    {\n",
      "        \"hyperParameters\": [\n",
      "            \"{\\\"parameter_id\\\":5,\\\"parameter_index\\\":0,\\\"parameters\\\":{\\\"dropout_rate\\\":0.7620696832811009,\\\"hidden_size\\\":124,\\\"learning_rate\\\":0.01,\\\"conv_size\\\":3,\\\"batch_size\\\":8},\\\"parameter_source\\\":\\\"algorithm\\\"}\"\n",
      "        ],\n",
      "        \"id\": \"B63B8\",\n",
      "        \"status\": \"SUCCEEDED\",\n",
      "        \"sequenceId\": 5,\n",
      "        \"finalMetricData\": [\n",
      "            {\n",
      "                \"sequence\": 0,\n",
      "                \"trialJobId\": \"B63B8\",\n",
      "                \"timestamp\": 1562910782794,\n",
      "                \"parameterId\": \"5\",\n",
      "                \"type\": \"FINAL\",\n",
      "                \"data\": \"0.11349999904632568\"\n",
      "            }\n",
      "        ],\n",
      "        \"logPath\": \"file://localhost:/home/chicm/nni/experiments/c7gs4Ael/trials/B63B8\",\n",
      "        \"startTime\": 1562910599743,\n",
      "        \"endTime\": 1562910783543\n",
      "    },\n",
      "    {\n",
      "        \"hyperParameters\": [\n",
      "            \"{\\\"parameter_id\\\":6,\\\"parameter_index\\\":0,\\\"parameters\\\":{\\\"dropout_rate\\\":0.8591058049287723,\\\"hidden_size\\\":512,\\\"learning_rate\\\":0.001,\\\"conv_size\\\":5,\\\"batch_size\\\":4},\\\"parameter_source\\\":\\\"algorithm\\\"}\"\n",
      "        ],\n",
      "        \"id\": \"GGlIK\",\n",
      "        \"status\": \"SUCCEEDED\",\n",
      "        \"sequenceId\": 6,\n",
      "        \"finalMetricData\": [\n",
      "            {\n",
      "                \"sequence\": 0,\n",
      "                \"trialJobId\": \"GGlIK\",\n",
      "                \"timestamp\": 1562911082715,\n",
      "                \"parameterId\": \"6\",\n",
      "                \"type\": \"FINAL\",\n",
      "                \"data\": \"0.9476000070571899\"\n",
      "            }\n",
      "        ],\n",
      "        \"logPath\": \"file://localhost:/home/chicm/nni/experiments/c7gs4Ael/trials/GGlIK\",\n",
      "        \"startTime\": 1562910794979,\n",
      "        \"endTime\": 1562911083440\n",
      "    },\n",
      "    {\n",
      "        \"hyperParameters\": [\n",
      "            \"{\\\"parameter_id\\\":7,\\\"parameter_index\\\":0,\\\"parameters\\\":{\\\"dropout_rate\\\":0.6015158711387532,\\\"hidden_size\\\":124,\\\"learning_rate\\\":0.1,\\\"conv_size\\\":3,\\\"batch_size\\\":8},\\\"parameter_source\\\":\\\"algorithm\\\"}\"\n",
      "        ],\n",
      "        \"id\": \"IfQ1o\",\n",
      "        \"status\": \"SUCCEEDED\",\n",
      "        \"sequenceId\": 7,\n",
      "        \"finalMetricData\": [\n",
      "            {\n",
      "                \"sequence\": 0,\n",
      "                \"trialJobId\": \"IfQ1o\",\n",
      "                \"timestamp\": 1562911264957,\n",
      "                \"parameterId\": \"7\",\n",
      "                \"type\": \"FINAL\",\n",
      "                \"data\": \"0.09799999743700027\"\n",
      "            }\n",
      "        ],\n",
      "        \"logPath\": \"file://localhost:/home/chicm/nni/experiments/c7gs4Ael/trials/IfQ1o\",\n",
      "        \"startTime\": 1562911095602,\n",
      "        \"endTime\": 1562911265760\n",
      "    },\n",
      "    {\n",
      "        \"hyperParameters\": [\n",
      "            \"{\\\"parameter_id\\\":8,\\\"parameter_index\\\":0,\\\"parameters\\\":{\\\"dropout_rate\\\":0.7081663704086,\\\"hidden_size\\\":124,\\\"learning_rate\\\":0.01,\\\"conv_size\\\":3,\\\"batch_size\\\":16},\\\"parameter_source\\\":\\\"algorithm\\\"}\"\n",
      "        ],\n",
      "        \"id\": \"QyOS1\",\n",
      "        \"status\": \"SUCCEEDED\",\n",
      "        \"sequenceId\": 8,\n",
      "        \"finalMetricData\": [\n",
      "            {\n",
      "                \"sequence\": 0,\n",
      "                \"trialJobId\": \"QyOS1\",\n",
      "                \"timestamp\": 1562911461539,\n",
      "                \"parameterId\": \"8\",\n",
      "                \"type\": \"FINAL\",\n",
      "                \"data\": \"0.11349999904632568\"\n",
      "            }\n",
      "        ],\n",
      "        \"logPath\": \"file://localhost:/home/chicm/nni/experiments/c7gs4Ael/trials/QyOS1\",\n",
      "        \"startTime\": 1562911275837,\n",
      "        \"endTime\": 1562911462292\n",
      "    },\n",
      "    {\n",
      "        \"hyperParameters\": [\n",
      "            \"{\\\"parameter_id\\\":9,\\\"parameter_index\\\":0,\\\"parameters\\\":{\\\"dropout_rate\\\":0.6862904719386945,\\\"hidden_size\\\":124,\\\"learning_rate\\\":0.1,\\\"conv_size\\\":5,\\\"batch_size\\\":1},\\\"parameter_source\\\":\\\"algorithm\\\"}\"\n",
      "        ],\n",
      "        \"id\": \"lWrD5\",\n",
      "        \"status\": \"SUCCEEDED\",\n",
      "        \"sequenceId\": 9,\n",
      "        \"finalMetricData\": [\n",
      "            {\n",
      "                \"sequence\": 0,\n",
      "                \"trialJobId\": \"lWrD5\",\n",
      "                \"timestamp\": 1562911743573,\n",
      "                \"parameterId\": \"9\",\n",
      "                \"type\": \"FINAL\",\n",
      "                \"data\": \"0.08919999748468399\"\n",
      "            }\n",
      "        ],\n",
      "        \"logPath\": \"file://localhost:/home/chicm/nni/experiments/c7gs4Ael/trials/lWrD5\",\n",
      "        \"startTime\": 1562911476162,\n",
      "        \"endTime\": 1562911744295\n",
      "    }\n",
      "]\n"
     ]
    }
   ],
   "source": [
    "show_json(nc.list_trial_jobs())"
   ]
  },
  {
   "cell_type": "code",
   "execution_count": 132,
   "metadata": {},
   "outputs": [
    {
     "data": {
      "image/png": "[encoded data removed]",
      "text/plain": [
       "<Figure size 1080x432 with 1 Axes>"
      ]
     },
     "metadata": {},
     "output_type": "display_data"
    }
   ],
   "source": [
    "jobs = nc.list_trial_jobs()\n",
    "job_ids = [x['id'] for x in jobs]\n",
    "final_metrics = [float(x['finalMetricData'][0]['data']) for x in jobs]\n",
    "hp = [json.loads(x['hyperParameters'][0])['parameters'] for x in jobs]\n",
    "\n",
    "data = {'job id': job_ids, 'final metrics': final_metrics}\n",
    "sns.set(rc={'figure.figsize':(15, 6)})\n",
    "\n",
    "plt.title('Trial job final results')\n",
    "ax = sns.barplot(x='job id', y='final metrics', data=data) \n",
    "\n",
    "for i,p in enumerate(ax.patches):\n",
    "    ax.annotate('{:.4f}'.format(p.get_height()), (p.get_x() + p.get_width() / 2., p.get_height()),\n",
    "                 ha='center', va='center', fontsize=11, color='black', rotation=0, xytext=(0, 5),\n",
    "                 textcoords='offset points') "
   ]
  },
  {
   "cell_type": "code",
   "execution_count": 133,
   "metadata": {},
   "outputs": [],
   "source": [
    "def show_intermediete_results(trial_job_id):\n",
    "    plt.title('Intermediate results for job ' + trial_job_id)\n",
    "    sns.set(rc={'figure.figsize':(15, 6)})\n",
    "    res = nc.get_job_metrics(trial_job_id)\n",
    "    metrics = [float(x['data']) for x in res if x['type']=='PERIODICAL']\n",
    "    seq = [int(x['sequence']) for x in res if x['type']=='PERIODICAL']\n",
    "    sns.barplot(x='sequence', y='intermediate results', data={'sequence': seq, 'intermediate results': metrics})    "
   ]
  },
  {
   "cell_type": "code",
   "execution_count": 134,
   "metadata": {},
   "outputs": [
    {
     "data": {
      "image/png": "[encoded data removed]",
      "text/plain": [
       "<Figure size 1080x432 with 1 Axes>"
      ]
     },
     "metadata": {},
     "output_type": "display_data"
    }
   ],
   "source": [
    "show_intermediete_results('RFnMS')"
   ]
  },
  {
   "cell_type": "code",
   "execution_count": 135,
   "metadata": {},
   "outputs": [
    {
     "name": "stdout",
     "output_type": "stream",
     "text": [
      "INFO: Stoping experiment c7gs4Ael\u001b[0m\n",
      "\u001b[0mINFO: Stop experiment success.\u001b[0m\n",
      "\u001b[0m\u001b[0m"
     ]
    }
   ],
   "source": [
    "!nnictl stop"
   ]
  },
  {
   "cell_type": "code",
   "execution_count": null,
   "metadata": {},
   "outputs": [],
   "source": []
  }
 ],
 "metadata": {
  "kernelspec": {
   "display_name": "Python 3",
   "language": "python",
   "name": "python3"
  },
  "language_info": {
   "codemirror_mode": {
    "name": "ipython",
    "version": 3
   },
   "file_extension": ".py",
   "mimetype": "text/x-python",
   "name": "python",
   "nbconvert_exporter": "python",
   "pygments_lexer": "ipython3",
   "version": "3.5.2"
  }
 },
 "nbformat": 4,
 "nbformat_minor": 2
}
